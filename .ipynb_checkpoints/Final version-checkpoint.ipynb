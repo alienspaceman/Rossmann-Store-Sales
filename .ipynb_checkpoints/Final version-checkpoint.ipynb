{
 "cells": [
  {
   "cell_type": "code",
   "execution_count": 1,
   "id": "human-deputy",
   "metadata": {},
   "outputs": [],
   "source": [
    "%load_ext autoreload\n",
    "%autoreload 2"
   ]
  },
  {
   "cell_type": "code",
   "execution_count": 2,
   "id": "corrected-fellowship",
   "metadata": {},
   "outputs": [],
   "source": [
    "import logging\n",
    "import numpy as np\n",
    "import pandas as pd"
   ]
  },
  {
   "cell_type": "code",
   "execution_count": 11,
   "id": "ready-leone",
   "metadata": {},
   "outputs": [],
   "source": [
    "from utils import preprocessing_utils, general_utils"
   ]
  },
  {
   "cell_type": "markdown",
   "id": "australian-zambia",
   "metadata": {},
   "source": [
    "Load datasets: train, test, store"
   ]
  },
  {
   "cell_type": "code",
   "execution_count": 4,
   "id": "entitled-forestry",
   "metadata": {},
   "outputs": [],
   "source": [
    "DATA_PATH = 'data/'"
   ]
  },
  {
   "cell_type": "code",
   "execution_count": 7,
   "id": "textile-breakdown",
   "metadata": {},
   "outputs": [],
   "source": [
    "train_df = pd.read_csv(DATA_PATH + 'train.csv', low_memory=False)\n",
    "test_df = pd.read_csv(DATA_PATH + 'test.csv', low_memory=False)\n",
    "store_df = pd.read_csv(DATA_PATH + 'store.csv')"
   ]
  },
  {
   "cell_type": "code",
   "execution_count": 8,
   "id": "requested-richmond",
   "metadata": {},
   "outputs": [],
   "source": [
    "train_df['Date'] = pd.to_datetime(train_df['Date'], infer_datetime_format=True)\n",
    "test_df['Date'] = pd.to_datetime(test_df['Date'], infer_datetime_format=True)"
   ]
  },
  {
   "cell_type": "code",
   "execution_count": 9,
   "id": "enormous-community",
   "metadata": {},
   "outputs": [
    {
     "name": "stdout",
     "output_type": "stream",
     "text": [
      "2013-01-01 00:00:00 2015-07-31 00:00:00\n",
      "2015-08-01 00:00:00 2015-09-17 00:00:00\n"
     ]
    }
   ],
   "source": [
    "print(train_df['Date'].min(), train_df['Date'].max())\n",
    "print(test_df['Date'].min(), test_df['Date'].max())"
   ]
  },
  {
   "cell_type": "markdown",
   "id": "virgin-refund",
   "metadata": {},
   "source": [
    "We have data 2013, 2014 and 2015 till 2015-07-31. \\\n",
    "We need to predict sales for the next 1,5 month i.e. 47 days."
   ]
  },
  {
   "cell_type": "markdown",
   "id": "frozen-burst",
   "metadata": {},
   "source": [
    "## Data Preparation"
   ]
  },
  {
   "cell_type": "markdown",
   "id": "offshore-composer",
   "metadata": {},
   "source": [
    "Fill missing values"
   ]
  },
  {
   "cell_type": "code",
   "execution_count": 10,
   "id": "opposed-mason",
   "metadata": {},
   "outputs": [],
   "source": [
    "test_df['Open'] = test_df.groupby('Store')['Open'].ffill()\n",
    "test_df['Open'].fillna(0, inplace=True)"
   ]
  },
  {
   "cell_type": "code",
   "execution_count": 11,
   "id": "domestic-screening",
   "metadata": {},
   "outputs": [
    {
     "data": {
      "text/plain": [
       "Id               0\n",
       "Store            0\n",
       "DayOfWeek        0\n",
       "Date             0\n",
       "Open             0\n",
       "Promo            0\n",
       "StateHoliday     0\n",
       "SchoolHoliday    0\n",
       "dtype: int64"
      ]
     },
     "execution_count": 11,
     "metadata": {},
     "output_type": "execute_result"
    }
   ],
   "source": [
    "test_df.isna().sum()"
   ]
  },
  {
   "cell_type": "markdown",
   "id": "regular-jimmy",
   "metadata": {},
   "source": [
    "Remove records for the dates when stores were closed. \\\n",
    "WHY? \\\n",
    "To prevent bias\n",
    "HOW? \\\n",
    "1. Select indeces of records for the dates when stores were closed.\n",
    "2. Save information about promos and holidays on that dates.\n",
    "3. Fill the gaps in date range\n",
    "3. Fill the gaps in sales and customers values by interpolation\n",
    "4. Fill missing values in promos and holidays from the previously saved data where it's possible\n",
    "5. Fill left missing values with the nearest values"
   ]
  },
  {
   "cell_type": "code",
   "execution_count": 12,
   "id": "sapphire-baseball",
   "metadata": {},
   "outputs": [
    {
     "name": "stderr",
     "output_type": "stream",
     "text": [
      "2021-02-23 15:34:38,362 | INFO : Shape before removal: (1017209, 9)\n",
      "2021-02-23 15:34:38,739 | INFO : Shape after removal: (844392, 9)\n",
      "2021-02-23 15:34:41,074 | INFO : Shape after filling date gaps: (1048712, 9)\n",
      "2021-02-23 15:34:43,893 | INFO : Number of missing values in df: 0\n"
     ]
    }
   ],
   "source": [
    "train_df = preprocessing_utils.interpolate_sales_customers(train_df, method='nearest')"
   ]
  },
  {
   "cell_type": "code",
   "execution_count": 13,
   "id": "alpine-bonus",
   "metadata": {},
   "outputs": [
    {
     "data": {
      "text/html": [
       "<div>\n",
       "<style scoped>\n",
       "    .dataframe tbody tr th:only-of-type {\n",
       "        vertical-align: middle;\n",
       "    }\n",
       "\n",
       "    .dataframe tbody tr th {\n",
       "        vertical-align: top;\n",
       "    }\n",
       "\n",
       "    .dataframe thead th {\n",
       "        text-align: right;\n",
       "    }\n",
       "</style>\n",
       "<table border=\"1\" class=\"dataframe\">\n",
       "  <thead>\n",
       "    <tr style=\"text-align: right;\">\n",
       "      <th></th>\n",
       "      <th>Date</th>\n",
       "      <th>Store</th>\n",
       "      <th>DayOfWeek</th>\n",
       "      <th>Sales</th>\n",
       "      <th>Customers</th>\n",
       "      <th>Open</th>\n",
       "      <th>Promo</th>\n",
       "      <th>StateHoliday</th>\n",
       "      <th>SchoolHoliday</th>\n",
       "    </tr>\n",
       "  </thead>\n",
       "  <tbody>\n",
       "    <tr>\n",
       "      <th>0</th>\n",
       "      <td>2013-01-02</td>\n",
       "      <td>1</td>\n",
       "      <td>3.0</td>\n",
       "      <td>5530.0</td>\n",
       "      <td>668.0</td>\n",
       "      <td>1.0</td>\n",
       "      <td>0.0</td>\n",
       "      <td>0</td>\n",
       "      <td>1.0</td>\n",
       "    </tr>\n",
       "    <tr>\n",
       "      <th>1</th>\n",
       "      <td>2013-01-03</td>\n",
       "      <td>1</td>\n",
       "      <td>4.0</td>\n",
       "      <td>4327.0</td>\n",
       "      <td>578.0</td>\n",
       "      <td>1.0</td>\n",
       "      <td>0.0</td>\n",
       "      <td>0</td>\n",
       "      <td>1.0</td>\n",
       "    </tr>\n",
       "    <tr>\n",
       "      <th>2</th>\n",
       "      <td>2013-01-04</td>\n",
       "      <td>1</td>\n",
       "      <td>5.0</td>\n",
       "      <td>4486.0</td>\n",
       "      <td>619.0</td>\n",
       "      <td>1.0</td>\n",
       "      <td>0.0</td>\n",
       "      <td>0</td>\n",
       "      <td>1.0</td>\n",
       "    </tr>\n",
       "    <tr>\n",
       "      <th>3</th>\n",
       "      <td>2013-01-05</td>\n",
       "      <td>1</td>\n",
       "      <td>6.0</td>\n",
       "      <td>4997.0</td>\n",
       "      <td>635.0</td>\n",
       "      <td>1.0</td>\n",
       "      <td>0.0</td>\n",
       "      <td>0</td>\n",
       "      <td>1.0</td>\n",
       "    </tr>\n",
       "    <tr>\n",
       "      <th>4</th>\n",
       "      <td>2013-01-06</td>\n",
       "      <td>1</td>\n",
       "      <td>6.0</td>\n",
       "      <td>4997.0</td>\n",
       "      <td>635.0</td>\n",
       "      <td>0.0</td>\n",
       "      <td>0.0</td>\n",
       "      <td>0</td>\n",
       "      <td>1.0</td>\n",
       "    </tr>\n",
       "  </tbody>\n",
       "</table>\n",
       "</div>"
      ],
      "text/plain": [
       "        Date  Store  DayOfWeek   Sales  Customers  Open  Promo StateHoliday  \\\n",
       "0 2013-01-02      1        3.0  5530.0      668.0   1.0    0.0            0   \n",
       "1 2013-01-03      1        4.0  4327.0      578.0   1.0    0.0            0   \n",
       "2 2013-01-04      1        5.0  4486.0      619.0   1.0    0.0            0   \n",
       "3 2013-01-05      1        6.0  4997.0      635.0   1.0    0.0            0   \n",
       "4 2013-01-06      1        6.0  4997.0      635.0   0.0    0.0            0   \n",
       "\n",
       "   SchoolHoliday  \n",
       "0            1.0  \n",
       "1            1.0  \n",
       "2            1.0  \n",
       "3            1.0  \n",
       "4            1.0  "
      ]
     },
     "execution_count": 13,
     "metadata": {},
     "output_type": "execute_result"
    }
   ],
   "source": [
    "train_df.head()"
   ]
  },
  {
   "cell_type": "markdown",
   "id": "substantial-morgan",
   "metadata": {},
   "source": [
    "### Preprocess store data"
   ]
  },
  {
   "cell_type": "code",
   "execution_count": 14,
   "id": "twenty-humanity",
   "metadata": {
    "scrolled": false
   },
   "outputs": [
    {
     "name": "stderr",
     "output_type": "stream",
     "text": [
      "2021-02-23 15:34:43,970 | INFO : Fill NaN in CompetitionDistance, CompetitionOpenSinceMonth, CompetitionOpenSinceYear with 0\n",
      "2021-02-23 15:34:43,975 | INFO : Fill NaN in Promo2SinceWeek, Promo2SinceYear with 0\n",
      "2021-02-23 15:34:43,978 | INFO : Fill NaN in PromoInterval with \"\"\n"
     ]
    }
   ],
   "source": [
    "store_df = preprocessing_utils.fill_nans_store_df(store_df)"
   ]
  },
  {
   "cell_type": "code",
   "execution_count": 15,
   "id": "immediate-fisher",
   "metadata": {},
   "outputs": [
    {
     "name": "stderr",
     "output_type": "stream",
     "text": [
      "2021-02-23 15:34:44,013 | INFO : Encode labels in ['StoreType', 'Assortment', 'PromoInterval']\n",
      "2021-02-23 15:34:44,023 | INFO : Transform log1p CompetitionDistance\n",
      "2021-02-23 15:34:44,025 | INFO : Transform date features\n",
      "2021-02-23 15:34:44,038 | INFO : Save label encoder to data/store_cat_cols_le.pkl\n"
     ]
    }
   ],
   "source": [
    "store_df, store_label_encoder = preprocessing_utils.transform_store_df(store_df, DATA_PATH + 'store_cat_cols_le')"
   ]
  },
  {
   "cell_type": "code",
   "execution_count": 16,
   "id": "chubby-louis",
   "metadata": {},
   "outputs": [
    {
     "data": {
      "text/plain": [
       "{'StoreType': {'a': 0, 'b': 1, 'c': 2, 'd': 3},\n",
       " 'Assortment': {'a': 0, 'b': 1, 'c': 2},\n",
       " 'PromoInterval': {'': 0,\n",
       "  'Feb,May,Aug,Nov': 1,\n",
       "  'Jan,Apr,Jul,Oct': 2,\n",
       "  'Mar,Jun,Sept,Dec': 3}}"
      ]
     },
     "execution_count": 16,
     "metadata": {},
     "output_type": "execute_result"
    }
   ],
   "source": [
    "store_label_encoder"
   ]
  },
  {
   "cell_type": "markdown",
   "id": "sealed-hamburg",
   "metadata": {},
   "source": [
    "### Preprocess train/test"
   ]
  },
  {
   "cell_type": "code",
   "execution_count": 17,
   "id": "undefined-efficiency",
   "metadata": {},
   "outputs": [],
   "source": [
    "test_df['Sales'] = np.nan\n",
    "test_df['Customers'] = np.nan\n",
    "sales_df = pd.concat([train_df, test_df], ignore_index=True)"
   ]
  },
  {
   "cell_type": "code",
   "execution_count": 18,
   "id": "powered-biography",
   "metadata": {},
   "outputs": [
    {
     "data": {
      "text/plain": [
       "array(['0', 'b', 'a', 'c'], dtype=object)"
      ]
     },
     "execution_count": 18,
     "metadata": {},
     "output_type": "execute_result"
    }
   ],
   "source": [
    "train_df['StateHoliday'].unique()"
   ]
  },
  {
   "cell_type": "code",
   "execution_count": 19,
   "id": "corresponding-joyce",
   "metadata": {},
   "outputs": [
    {
     "name": "stderr",
     "output_type": "stream",
     "text": [
      "2021-02-23 15:34:47,463 | INFO : Add Day, Month, Year features\n",
      "2021-02-23 15:34:47,586 | INFO : Transform date features\n",
      "2021-02-23 15:34:48,365 | INFO : Encode StateHoliday\n",
      "2021-02-23 15:34:48,365 | INFO : Encode labels in ['StateHoliday']\n",
      "2021-02-23 15:34:48,506 | INFO : Save label encoder to data/sales_cat_cols_le.pkl\n"
     ]
    }
   ],
   "source": [
    "sales_df, sales_label_encoder = preprocessing_utils.transform_sales_df(sales_df, DATA_PATH + 'sales_cat_cols_le')"
   ]
  },
  {
   "cell_type": "code",
   "execution_count": 20,
   "id": "derived-worship",
   "metadata": {},
   "outputs": [],
   "source": [
    "data = sales_df.merge(store_df, on='Store', how='left')"
   ]
  },
  {
   "cell_type": "code",
   "execution_count": 21,
   "id": "infrared-banking",
   "metadata": {},
   "outputs": [],
   "source": [
    "data.drop(['Year', 'CompetitionOpenSinceYear', 'Promo2SinceYear', 'Id'], axis=1, inplace=True)"
   ]
  },
  {
   "cell_type": "code",
   "execution_count": 22,
   "id": "champion-rendering",
   "metadata": {},
   "outputs": [
    {
     "data": {
      "text/plain": [
       "(1089800, 23)"
      ]
     },
     "execution_count": 22,
     "metadata": {},
     "output_type": "execute_result"
    }
   ],
   "source": [
    "data.shape"
   ]
  },
  {
   "cell_type": "code",
   "execution_count": 23,
   "id": "electoral-proportion",
   "metadata": {},
   "outputs": [
    {
     "data": {
      "text/plain": [
       "Date                                 0\n",
       "Store                                0\n",
       "Sales                            41088\n",
       "Customers                        41088\n",
       "Open                                 0\n",
       "Promo                                0\n",
       "StateHoliday                         0\n",
       "SchoolHoliday                        0\n",
       "DayOfWeek_sin                        0\n",
       "DayOfWeek_cos                        0\n",
       "Month_sin                            0\n",
       "Month_cos                            0\n",
       "Day_sin                              0\n",
       "Day_cos                              0\n",
       "StoreType                            0\n",
       "Assortment                           0\n",
       "CompetitionDistance                  0\n",
       "Promo2                               0\n",
       "PromoInterval                        0\n",
       "CompetitionOpenSinceMonth_sin        0\n",
       "CompetitionOpenSinceMonth_cos        0\n",
       "Promo2SinceWeek_sin                  0\n",
       "Promo2SinceWeek_cos                  0\n",
       "dtype: int64"
      ]
     },
     "execution_count": 23,
     "metadata": {},
     "output_type": "execute_result"
    }
   ],
   "source": [
    "data.isna().sum()"
   ]
  },
  {
   "cell_type": "code",
   "execution_count": 25,
   "id": "formed-swing",
   "metadata": {},
   "outputs": [],
   "source": [
    "data.to_pickle(DATA_PATH + 'unscaled_sales_data.pickle')"
   ]
  },
  {
   "cell_type": "markdown",
   "id": "technical-threat",
   "metadata": {},
   "source": [
    "## Prepare data for model training"
   ]
  },
  {
   "cell_type": "markdown",
   "id": "impossible-empty",
   "metadata": {},
   "source": [
    "Validation strategy: Side-by-side split\\\n",
    "Dataset splits into independent parts, one part used strictly for training and another part used strictly for validation.\n",
    "\n",
    "Data range 2013 to 2015-07-31. \\\n",
    "Validation Model is trained on 2013 to 2015 data and predict 47 days of 2015 data.\n",
    "The best performing model will be trained on 2013 to 2015-07-31 data to predict 47 days from 2015-08-01 without validation. \\\n",
    "\n",
    "In the validation model sequences of the last 47 days of 2014 shouldn't be included because it contains 2015 values in y."
   ]
  },
  {
   "cell_type": "code",
   "execution_count": 26,
   "id": "regulated-abuse",
   "metadata": {},
   "outputs": [
    {
     "data": {
      "text/plain": [
       "Timestamp('2013-01-01 00:00:00')"
      ]
     },
     "execution_count": 26,
     "metadata": {},
     "output_type": "execute_result"
    }
   ],
   "source": [
    "data['Date'].min()"
   ]
  },
  {
   "cell_type": "code",
   "execution_count": 27,
   "id": "indonesian-intervention",
   "metadata": {},
   "outputs": [
    {
     "data": {
      "text/plain": [
       "Timestamp('2015-09-17 00:00:00')"
      ]
     },
     "execution_count": 27,
     "metadata": {},
     "output_type": "execute_result"
    }
   ],
   "source": [
    "data['Date'].max()"
   ]
  },
  {
   "cell_type": "code",
   "execution_count": 29,
   "id": "republican-clothing",
   "metadata": {},
   "outputs": [],
   "source": [
    "full_range = pd.date_range(data['Date'].min(), data['Date'].max())"
   ]
  },
  {
   "cell_type": "code",
   "execution_count": 34,
   "id": "acknowledged-failure",
   "metadata": {},
   "outputs": [
    {
     "data": {
      "text/plain": [
       "DatetimeIndex(['2013-01-01', '2013-01-02', '2013-01-03', '2013-01-04',\n",
       "               '2013-01-05', '2013-01-06', '2013-01-07', '2013-01-08',\n",
       "               '2013-01-09', '2013-01-10',\n",
       "               ...\n",
       "               '2014-11-05', '2014-11-06', '2014-11-07', '2014-11-08',\n",
       "               '2014-11-09', '2014-11-10', '2014-11-11', '2014-11-12',\n",
       "               '2014-11-13', '2014-11-14'],\n",
       "              dtype='datetime64[ns]', length=683, freq='D')"
      ]
     },
     "execution_count": 34,
     "metadata": {},
     "output_type": "execute_result"
    }
   ],
   "source": [
    "full_range[full_range<'2014-11-15']"
   ]
  },
  {
   "cell_type": "markdown",
   "id": "rubber-shepherd",
   "metadata": {},
   "source": [
    "### Normalize Data"
   ]
  },
  {
   "cell_type": "code",
   "execution_count": 6,
   "id": "amateur-visibility",
   "metadata": {},
   "outputs": [],
   "source": [
    "cols_to_scale = {'td': ['Sales', 'Customers'],\n",
    "                 'ti': ['Assortment', 'CompetitionDistance']\n",
    "                }\n",
    "val_date = None\n",
    "mode = 'val'\n",
    "if mode == 'val':\n",
    "    val_date = '2014-11-15'"
   ]
  },
  {
   "cell_type": "code",
   "execution_count": 48,
   "id": "assured-developer",
   "metadata": {},
   "outputs": [
    {
     "name": "stderr",
     "output_type": "stream",
     "text": [
      "2021-02-23 16:59:15,910 | INFO : Log Transform Sales and Customers\n",
      "2021-02-23 16:59:15,962 | INFO : Select records for scaler fitting\n",
      "2021-02-23 16:59:16,078 | INFO : Start scaling time-dependant features ['Sales', 'Customers']\n",
      "0it [02:00, ?it/s]\n",
      "0it [00:04, ?it/s]\n",
      "100%|██████████| 1115/1115 [03:39<00:00,  5.08it/s]\n",
      "2021-02-23 17:02:55,594 | INFO : Start scaling time-independant features ['Assortment', 'CompetitionDistance']\n",
      "2021-02-23 17:02:55,634 | INFO : Convert data formats to reduce memory usage\n",
      "2021-02-23 17:02:56,030 | INFO : Save pickle files\n"
     ]
    },
    {
     "name": "stdout",
     "output_type": "stream",
     "text": [
      "Mem. usage decreased to 58.20 Mb (74.1% reduction)\n"
     ]
    }
   ],
   "source": [
    "scaled_data, scale_map = preprocessing_utils.scale_data(data,\n",
    "                                                        DATA_PATH + f'scalemap_{cols_to_scale}',\n",
    "                                                        DATA_PATH + f'scaled_data_{mode}',\n",
    "                                                        cols_to_scale,\n",
    "                                                        mode=mode,\n",
    "                                                        val_date=val_date\n",
    "                                                       )"
   ]
  },
  {
   "cell_type": "code",
   "execution_count": 53,
   "id": "confident-robert",
   "metadata": {},
   "outputs": [
    {
     "data": {
      "text/plain": [
       "dict_keys(['Sales', 'Customers', 'Assortment', 'CompetitionDistance'])"
      ]
     },
     "execution_count": 53,
     "metadata": {},
     "output_type": "execute_result"
    }
   ],
   "source": [
    "scale_map.keys()"
   ]
  },
  {
   "cell_type": "code",
   "execution_count": 54,
   "id": "innovative-filling",
   "metadata": {},
   "outputs": [
    {
     "data": {
      "text/plain": [
       "1115"
      ]
     },
     "execution_count": 54,
     "metadata": {},
     "output_type": "execute_result"
    }
   ],
   "source": [
    "len(scale_map['Sales'])"
   ]
  },
  {
   "cell_type": "code",
   "execution_count": 55,
   "id": "detailed-amber",
   "metadata": {},
   "outputs": [
    {
     "data": {
      "text/plain": [
       "2"
      ]
     },
     "execution_count": 55,
     "metadata": {},
     "output_type": "execute_result"
    }
   ],
   "source": [
    "len(scale_map['Assortment'])"
   ]
  },
  {
   "cell_type": "markdown",
   "id": "remarkable-lounge",
   "metadata": {},
   "source": [
    "### Build data sequences"
   ]
  },
  {
   "cell_type": "code",
   "execution_count": 57,
   "id": "acceptable-subdivision",
   "metadata": {},
   "outputs": [
    {
     "data": {
      "text/plain": [
       "Index(['Date', 'Store', 'Sales', 'Customers', 'Open', 'Promo', 'StateHoliday',\n",
       "       'SchoolHoliday', 'DayOfWeek_sin', 'DayOfWeek_cos', 'Month_sin',\n",
       "       'Month_cos', 'Day_sin', 'Day_cos', 'StoreType', 'Assortment',\n",
       "       'CompetitionDistance', 'Promo2', 'PromoInterval',\n",
       "       'CompetitionOpenSinceMonth_sin', 'CompetitionOpenSinceMonth_cos',\n",
       "       'Promo2SinceWeek_sin', 'Promo2SinceWeek_cos', 'Sales_mean',\n",
       "       'Customers_mean', 'Assortment_mean', 'CompetitionDistance_mean'],\n",
       "      dtype='object')"
      ]
     },
     "execution_count": 57,
     "metadata": {},
     "output_type": "execute_result"
    }
   ],
   "source": [
    "scaled_data.columns"
   ]
  },
  {
   "cell_type": "code",
   "execution_count": 7,
   "id": "graphic-distinction",
   "metadata": {},
   "outputs": [],
   "source": [
    "n_steps_in = 90\n",
    "input_data_filename = DATA_PATH + f'scaled_data_{mode}'\n",
    "output_data_filename = DATA_PATH + f'sequence_data_{mode}'"
   ]
  },
  {
   "cell_type": "code",
   "execution_count": 8,
   "id": "tough-thermal",
   "metadata": {},
   "outputs": [
    {
     "data": {
      "text/plain": [
       "'data/scaled_data_val'"
      ]
     },
     "execution_count": 8,
     "metadata": {},
     "output_type": "execute_result"
    }
   ],
   "source": [
    "input_data_filename"
   ]
  },
  {
   "cell_type": "code",
   "execution_count": 9,
   "id": "following-tournament",
   "metadata": {},
   "outputs": [
    {
     "data": {
      "text/plain": [
       "'data/sequence_data_val'"
      ]
     },
     "execution_count": 9,
     "metadata": {},
     "output_type": "execute_result"
    }
   ],
   "source": [
    "output_data_filename"
   ]
  },
  {
   "cell_type": "code",
   "execution_count": 10,
   "id": "formal-advancement",
   "metadata": {},
   "outputs": [
    {
     "name": "stdout",
     "output_type": "stream",
     "text": [
      "0it [00:00, ?it/s]2021-02-23 18:59:57,770 | INFO : data/scaled_data_val\n",
      "2021-02-23 18:59:57,770 | INFO : Time-dependant features: ['Sales', 'Customers', 'Open', 'Promo', 'StateHoliday', 'SchoolHoliday', 'DayOfWeek_sin', 'DayOfWeek_cos', 'Month_sin', 'Month_cos', 'Day_sin', 'Day_cos']\n",
      "2021-02-23 18:59:57,770 | INFO : Time-independent features: ['Date', 'StoreType', 'Assortment', 'CompetitionDistance', 'Promo2', 'PromoInterval', 'CompetitionOpenSinceMonth_sin', 'CompetitionOpenSinceMonth_cos', 'Promo2SinceWeek_sin', 'Promo2SinceWeek_cos', 'Sales_mean', 'Customers_mean', 'Assortment_mean', 'CompetitionDistance_mean']\n",
      "2021-02-23 18:59:57,770 | INFO : Target Feature: Sales\n",
      "2021-02-23 18:59:57,770 | INFO : Load pickle file: data/scaled_data_val\n",
      "2021-02-23 18:59:57,864 | INFO : Start building sequences\n",
      "0it [00:00, ?it/s]\n",
      "0it [00:00, ?it/s]                                        | 0/6 [00:00<?, ?it/s]\n",
      "0it [00:00, ?it/s]\n",
      "0it [00:00, ?it/s]\n",
      "0it [00:00, ?it/s]\n",
      "0it [00:00, ?it/s]\n",
      "0it [00:00, ?it/s]                                      | 0/185 [00:00<?, ?it/s]\n",
      "100%|█████████████████████████████████████████| 185/185 [34:24<00:00, 11.16s/it]\n",
      "100%|█████████████████████████████████████████| 186/186 [34:32<00:00, 11.14s/it]\n",
      "100%|█████████████████████████████████████████| 186/186 [34:36<00:00, 11.17s/it]\n",
      "100%|█████████████████████████████████████████| 186/186 [34:46<00:00, 11.22s/it]\n",
      "100%|█████████████████████████████████████████| 186/186 [35:02<00:00, 11.30s/it]\n",
      "100%|█████████████████████████████████████████| 186/186 [35:06<00:00, 11.32s/it]\n",
      "100%|████████████████████████████████████████████| 6/6 [35:20<00:00, 353.38s/it]\n",
      "2021-02-23 19:35:18,883 | INFO : Prepare dataframe\n",
      "(938160, 17)\n",
      "2021-02-23 19:35:26,354 | INFO : Save data to data/sequence_data_val\n"
     ]
    }
   ],
   "source": [
    "! python build_sequence.py 'data/scaled_data_val' 'data/sequence_data_val' 90 "
   ]
  },
  {
   "cell_type": "code",
   "execution_count": 12,
   "id": "crazy-location",
   "metadata": {},
   "outputs": [],
   "source": [
    "seq_data = general_utils.open_pickle_file(output_data_filename)"
   ]
  },
  {
   "cell_type": "markdown",
   "id": "electric-stand",
   "metadata": {},
   "source": [
    "### Prepare pytorch dataloader"
   ]
  },
  {
   "cell_type": "code",
   "execution_count": 38,
   "id": "dimensional-citizen",
   "metadata": {},
   "outputs": [
    {
     "name": "stderr",
     "output_type": "stream",
     "text": [
      "\r",
      "0it [00:00, ?it/s]"
     ]
    },
    {
     "ename": "ModuleNotFoundError",
     "evalue": "No module named 'preprocessing_utils'",
     "output_type": "error",
     "traceback": [
      "\u001b[0;31m---------------------------------------------------------------------------\u001b[0m",
      "\u001b[0;31mModuleNotFoundError\u001b[0m                       Traceback (most recent call last)",
      "\u001b[0;32m<ipython-input-38-8c242564dafe>\u001b[0m in \u001b[0;36m<module>\u001b[0;34m\u001b[0m\n\u001b[0;32m----> 1\u001b[0;31m \u001b[0;32mfrom\u001b[0m \u001b[0mpreprocessing_utils\u001b[0m \u001b[0;32mimport\u001b[0m \u001b[0mStoreDataset\u001b[0m\u001b[0;34m\u001b[0m\u001b[0;34m\u001b[0m\u001b[0m\n\u001b[0m",
      "\u001b[0;31mModuleNotFoundError\u001b[0m: No module named 'preprocessing_utils'"
     ]
    }
   ],
   "source": [
    "from preprocessing_utils import StoreDataset"
   ]
  },
  {
   "cell_type": "code",
   "execution_count": null,
   "id": "young-spank",
   "metadata": {},
   "outputs": [],
   "source": []
  }
 ],
 "metadata": {
  "kernelspec": {
   "display_name": "Python (takehome-test)",
   "language": "python",
   "name": "venv"
  },
  "language_info": {
   "codemirror_mode": {
    "name": "ipython",
    "version": 3
   },
   "file_extension": ".py",
   "mimetype": "text/x-python",
   "name": "python",
   "nbconvert_exporter": "python",
   "pygments_lexer": "ipython3",
   "version": "3.8.6"
  }
 },
 "nbformat": 4,
 "nbformat_minor": 5
}
