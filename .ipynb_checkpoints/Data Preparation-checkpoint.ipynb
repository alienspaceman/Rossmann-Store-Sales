{
 "cells": [
  {
   "cell_type": "code",
   "execution_count": 1,
   "id": "special-scout",
   "metadata": {},
   "outputs": [],
   "source": [
    "from collections import defaultdict\n",
    "import pickle\n",
    "\n",
    "import numpy as np\n",
    "import pandas as pd\n",
    "from tqdm.notebook import tqdm\n",
    "tqdm.pandas()\n"
   ]
  },
  {
   "cell_type": "code",
   "execution_count": 2,
   "id": "broad-scout",
   "metadata": {},
   "outputs": [],
   "source": [
    "import matplotlib.pyplot as plt"
   ]
  },
  {
   "cell_type": "code",
   "execution_count": 3,
   "id": "curious-order",
   "metadata": {},
   "outputs": [],
   "source": [
    "cycles = {'days_in_week':7,\n",
    "          'days_in_month':31,\n",
    "          'weeks_in_year':52,\n",
    "          'months_in_year':12\n",
    "         }\n",
    "\n",
    "def sin_transform(values, n_values):\n",
    "    return np.sin(2*np.pi*values/n_values)\n",
    "\n",
    "def cos_transform(values, n_values):\n",
    "    return np.cos(2*np.pi*values/n_values)\n",
    "\n",
    "def transform_cycle_feature(values, cycle_type):\n",
    "    return sin_transform(values, cycles[cycle_type]), cos_transform(values, cycles[cycle_type])\n",
    "\n"
   ]
  },
  {
   "cell_type": "code",
   "execution_count": 4,
   "id": "greenhouse-idaho",
   "metadata": {},
   "outputs": [],
   "source": [
    "train_df = pd.read_csv('train.csv', low_memory=False)\n",
    "test_df = pd.read_csv('test.csv', low_memory=False)\n",
    "store_df = pd.read_csv('store.csv')"
   ]
  },
  {
   "cell_type": "code",
   "execution_count": 5,
   "id": "retained-performer",
   "metadata": {},
   "outputs": [],
   "source": [
    "train_df['Date'] = pd.to_datetime(train_df['Date'], infer_datetime_format=True)\n",
    "test_df['Date'] = pd.to_datetime(test_df['Date'], infer_datetime_format=True)"
   ]
  },
  {
   "cell_type": "code",
   "execution_count": 6,
   "id": "superb-incident",
   "metadata": {},
   "outputs": [
    {
     "name": "stdout",
     "output_type": "stream",
     "text": [
      "2013-01-01 00:00:00 2015-07-31 00:00:00\n",
      "2015-08-01 00:00:00 2015-09-17 00:00:00\n"
     ]
    }
   ],
   "source": [
    "print(train_df['Date'].min(), train_df['Date'].max())\n",
    "print(test_df['Date'].min(), test_df['Date'].max())"
   ]
  },
  {
   "cell_type": "code",
   "execution_count": null,
   "id": "ethical-shape",
   "metadata": {},
   "outputs": [],
   "source": []
  },
  {
   "cell_type": "code",
   "execution_count": 7,
   "id": "sixth-logic",
   "metadata": {},
   "outputs": [],
   "source": [
    "test_df['Open'] = test_df.groupby('Store')['Open'].ffill()"
   ]
  },
  {
   "cell_type": "code",
   "execution_count": 8,
   "id": "lasting-boating",
   "metadata": {},
   "outputs": [],
   "source": [
    "# remove sales values when store is closed"
   ]
  },
  {
   "cell_type": "code",
   "execution_count": 9,
   "id": "recognized-sphere",
   "metadata": {},
   "outputs": [],
   "source": [
    "idx_toremove = list(train_df[(train_df['Open'] != 1) & (train_df['Sales'] == 0)].index)"
   ]
  },
  {
   "cell_type": "code",
   "execution_count": 10,
   "id": "advanced-material",
   "metadata": {},
   "outputs": [],
   "source": [
    "promo_map = train_df.iloc[idx_toremove].groupby('Date')['Promo'].unique().apply(lambda x: x[0])\n",
    "state_holiday_map = train_df.iloc[idx_toremove].groupby('Date')['StateHoliday'].unique().apply(lambda x: x[0])\n",
    "school_holiday_map = train_df.iloc[idx_toremove].groupby('Date')['SchoolHoliday'].unique().apply(lambda x: x[0])"
   ]
  },
  {
   "cell_type": "code",
   "execution_count": 11,
   "id": "enhanced-butler",
   "metadata": {},
   "outputs": [],
   "source": [
    "train_df = train_df.drop(idx_toremove)"
   ]
  },
  {
   "cell_type": "code",
   "execution_count": 12,
   "id": "binary-noise",
   "metadata": {},
   "outputs": [],
   "source": [
    "train_df = train_df.sort_values(['Store', 'Date']).reset_index(drop=True)\n",
    "test_df = test_df.sort_values(['Store', 'Date']).reset_index(drop=True)"
   ]
  },
  {
   "cell_type": "code",
   "execution_count": 13,
   "id": "brilliant-miniature",
   "metadata": {},
   "outputs": [],
   "source": [
    "# fill in gaps in date range"
   ]
  },
  {
   "cell_type": "code",
   "execution_count": 14,
   "id": "tutorial-essence",
   "metadata": {},
   "outputs": [],
   "source": [
    "train_df = train_df.set_index('Date').groupby('Store').apply(lambda x: x.drop('Store', axis=1).asfreq('D')).reset_index()"
   ]
  },
  {
   "cell_type": "code",
   "execution_count": 15,
   "id": "revised-excuse",
   "metadata": {},
   "outputs": [
    {
     "data": {
      "image/png": "[encoded data removed]",
      "text/plain": [
       "<Figure size 432x288 with 1 Axes>"
      ]
     },
     "metadata": {
      "needs_background": "light"
     },
     "output_type": "display_data"
    }
   ],
   "source": [
    "plt.hist(train_df.groupby('Store').apply(lambda x: x['Sales'].isna().sum() / len(x)))\n",
    "plt.show()"
   ]
  },
  {
   "cell_type": "code",
   "execution_count": 16,
   "id": "chronic-measurement",
   "metadata": {},
   "outputs": [
    {
     "data": {
      "text/plain": [
       "Store\n",
       "644     0.370882\n",
       "348     0.365569\n",
       "744     0.357067\n",
       "100     0.356004\n",
       "909     0.354942\n",
       "          ...   \n",
       "423     0.000000\n",
       "1081    0.000000\n",
       "262     0.000000\n",
       "733     0.000000\n",
       "769     0.000000\n",
       "Length: 1115, dtype: float64"
      ]
     },
     "execution_count": 16,
     "metadata": {},
     "output_type": "execute_result"
    }
   ],
   "source": [
    "train_df.groupby('Store').apply(lambda x: x['Sales'].isna().sum() / len(x)).sort_values(ascending=False)"
   ]
  },
  {
   "cell_type": "code",
   "execution_count": 17,
   "id": "operational-underground",
   "metadata": {},
   "outputs": [
    {
     "data": {
      "text/plain": [
       "[<matplotlib.lines.Line2D at 0x12417f160>]"
      ]
     },
     "execution_count": 17,
     "metadata": {},
     "output_type": "execute_result"
    },
    {
     "data": {
      "image/png": "[encoded data removed]",
      "text/plain": [
       "<Figure size 432x288 with 1 Axes>"
      ]
     },
     "metadata": {
      "needs_background": "light"
     },
     "output_type": "display_data"
    }
   ],
   "source": [
    "plt.plot(train_df[train_df['Store'] == 348]['Sales'])"
   ]
  },
  {
   "cell_type": "code",
   "execution_count": 18,
   "id": "collective-burner",
   "metadata": {},
   "outputs": [],
   "source": [
    "train_df['Sales'] = train_df.groupby('Store').apply(lambda x: x['Sales'].interpolate(method='nearest')).reset_index(drop=True)"
   ]
  },
  {
   "cell_type": "code",
   "execution_count": 19,
   "id": "allied-third",
   "metadata": {},
   "outputs": [],
   "source": [
    "train_df['Customers'] = train_df.groupby('Store').apply(lambda x: x['Customers'].interpolate(method='nearest')).reset_index(drop=True)"
   ]
  },
  {
   "cell_type": "code",
   "execution_count": 20,
   "id": "sudden-season",
   "metadata": {},
   "outputs": [
    {
     "data": {
      "text/plain": [
       "Store                 0\n",
       "Date                  0\n",
       "DayOfWeek        204320\n",
       "Sales                 0\n",
       "Customers             0\n",
       "Open             204320\n",
       "Promo            204320\n",
       "StateHoliday     204320\n",
       "SchoolHoliday    204320\n",
       "dtype: int64"
      ]
     },
     "execution_count": 20,
     "metadata": {},
     "output_type": "execute_result"
    }
   ],
   "source": [
    "train_df.isna().sum()"
   ]
  },
  {
   "cell_type": "code",
   "execution_count": null,
   "id": "needed-section",
   "metadata": {},
   "outputs": [],
   "source": []
  },
  {
   "cell_type": "code",
   "execution_count": 21,
   "id": "civic-dietary",
   "metadata": {},
   "outputs": [],
   "source": [
    "train_df['Open'].fillna(0, inplace=True)"
   ]
  },
  {
   "cell_type": "code",
   "execution_count": 22,
   "id": "obvious-aside",
   "metadata": {},
   "outputs": [],
   "source": [
    "train_df['DayOfWeek'].fillna(train_df['Date'].dt.weekday, inplace=True)"
   ]
  },
  {
   "cell_type": "code",
   "execution_count": 23,
   "id": "authentic-highlight",
   "metadata": {},
   "outputs": [],
   "source": [
    "train_df = train_df.set_index('Date')"
   ]
  },
  {
   "cell_type": "code",
   "execution_count": 24,
   "id": "vertical-details",
   "metadata": {},
   "outputs": [],
   "source": [
    "train_df['Promo'] = train_df['Promo'].fillna(promo_map)\n",
    "train_df['Promo'] = train_df['Promo'].interpolate(method='nearest')\n",
    "\n",
    "train_df['SchoolHoliday'] = train_df['SchoolHoliday'].fillna(school_holiday_map)\n",
    "train_df['SchoolHoliday'] = train_df['SchoolHoliday'].interpolate(method='nearest')"
   ]
  },
  {
   "cell_type": "code",
   "execution_count": 25,
   "id": "afraid-burton",
   "metadata": {},
   "outputs": [],
   "source": [
    "train_df['StateHoliday'] = train_df['StateHoliday'].fillna(state_holiday_map)\n",
    "train_df['StateHoliday'] = train_df['StateHoliday'].interpolate(method='backfill')"
   ]
  },
  {
   "cell_type": "code",
   "execution_count": 26,
   "id": "divided-index",
   "metadata": {},
   "outputs": [
    {
     "data": {
      "text/plain": [
       "Store            0\n",
       "DayOfWeek        0\n",
       "Sales            0\n",
       "Customers        0\n",
       "Open             0\n",
       "Promo            0\n",
       "StateHoliday     0\n",
       "SchoolHoliday    0\n",
       "dtype: int64"
      ]
     },
     "execution_count": 26,
     "metadata": {},
     "output_type": "execute_result"
    }
   ],
   "source": [
    "train_df.isna().sum()"
   ]
  },
  {
   "cell_type": "code",
   "execution_count": 27,
   "id": "periodic-insert",
   "metadata": {},
   "outputs": [],
   "source": [
    "train_df.reset_index(inplace=True)"
   ]
  },
  {
   "cell_type": "code",
   "execution_count": 28,
   "id": "explicit-restriction",
   "metadata": {},
   "outputs": [],
   "source": [
    "# prepare store data"
   ]
  },
  {
   "cell_type": "code",
   "execution_count": 29,
   "id": "sound-beast",
   "metadata": {},
   "outputs": [],
   "source": [
    "subset=['CompetitionDistance', 'CompetitionOpenSinceMonth', 'CompetitionOpenSinceYear']\n",
    "store_df[subset] = store_df[subset].fillna(0)"
   ]
  },
  {
   "cell_type": "code",
   "execution_count": 30,
   "id": "missing-walker",
   "metadata": {},
   "outputs": [],
   "source": [
    "subset = ['Promo2SinceWeek', 'Promo2SinceYear']\n",
    "store_df[subset] = store_df[subset].fillna(0)"
   ]
  },
  {
   "cell_type": "code",
   "execution_count": 31,
   "id": "acceptable-brooklyn",
   "metadata": {},
   "outputs": [],
   "source": [
    "store_df['PromoInterval'] = store_df['PromoInterval'].fillna('')"
   ]
  },
  {
   "cell_type": "code",
   "execution_count": 32,
   "id": "alpha-customs",
   "metadata": {},
   "outputs": [],
   "source": [
    "store_types_dummy = pd.get_dummies(store_df['StoreType'], prefix='StoreType', drop_first=True)\n",
    "store_assortment_dummy = pd.get_dummies(store_df['Assortment'], prefix='Assortment', drop_first=True)"
   ]
  },
  {
   "cell_type": "code",
   "execution_count": 33,
   "id": "heavy-purchase",
   "metadata": {},
   "outputs": [],
   "source": [
    "store_df = pd.concat([store_df, store_types_dummy], axis=1) \n",
    "store_df = pd.concat([store_df, store_assortment_dummy], axis=1) "
   ]
  },
  {
   "cell_type": "code",
   "execution_count": 34,
   "id": "acute-browse",
   "metadata": {},
   "outputs": [],
   "source": [
    "store_df.drop(['StoreType', 'Assortment'], axis=1, inplace=True)"
   ]
  },
  {
   "cell_type": "code",
   "execution_count": 35,
   "id": "detailed-hypothetical",
   "metadata": {},
   "outputs": [],
   "source": [
    "store_promoint_dummy = pd.get_dummies(store_df['PromoInterval'], prefix='PromoInterval', drop_first=True)\n",
    "store_df = pd.concat([store_df, store_promoint_dummy], axis=1) \n",
    "store_df.drop('PromoInterval', axis=1, inplace=True)"
   ]
  },
  {
   "cell_type": "code",
   "execution_count": 36,
   "id": "married-chase",
   "metadata": {},
   "outputs": [],
   "source": [
    "store_df['CompetitionDistance'] = np.log1p(store_df['CompetitionDistance'])\n",
    "# remove outliers\n",
    "# store_df['CompetitionDistance'] = (store_df['CompetitionDistance'] - store_df['CompetitionDistance'].mean()) / store_df['CompetitionDistance'].std()"
   ]
  },
  {
   "cell_type": "code",
   "execution_count": 37,
   "id": "selective-switzerland",
   "metadata": {},
   "outputs": [],
   "source": [
    "store_df['CompetitionOpenSinceMonth_sin'], store_df['CompetitionOpenSinceMonth_cos'] = transform_cycle_feature(store_df['CompetitionOpenSinceMonth'], 'months_in_year')"
   ]
  },
  {
   "cell_type": "code",
   "execution_count": 38,
   "id": "instant-round",
   "metadata": {},
   "outputs": [],
   "source": [
    "store_df.drop('CompetitionOpenSinceMonth', axis=1, inplace=True)"
   ]
  },
  {
   "cell_type": "code",
   "execution_count": 39,
   "id": "sexual-mobile",
   "metadata": {},
   "outputs": [],
   "source": [
    "store_df['Promo2SinceWeek_sin'], store_df['Promo2SinceWeek_cos'] = transform_cycle_feature(store_df['Promo2SinceWeek'], 'weeks_in_year')"
   ]
  },
  {
   "cell_type": "code",
   "execution_count": 40,
   "id": "cultural-photography",
   "metadata": {},
   "outputs": [],
   "source": [
    "store_df.drop('Promo2SinceWeek', axis=1, inplace=True)"
   ]
  },
  {
   "cell_type": "code",
   "execution_count": 41,
   "id": "portuguese-effectiveness",
   "metadata": {},
   "outputs": [],
   "source": [
    "store_cols = list(set(store_df.columns) - set(['CompetitionOpenSinceYear', 'Promo2SinceYear']))"
   ]
  },
  {
   "cell_type": "code",
   "execution_count": 42,
   "id": "future-square",
   "metadata": {},
   "outputs": [
    {
     "data": {
      "text/html": [
       "<div>\n",
       "<style scoped>\n",
       "    .dataframe tbody tr th:only-of-type {\n",
       "        vertical-align: middle;\n",
       "    }\n",
       "\n",
       "    .dataframe tbody tr th {\n",
       "        vertical-align: top;\n",
       "    }\n",
       "\n",
       "    .dataframe thead th {\n",
       "        text-align: right;\n",
       "    }\n",
       "</style>\n",
       "<table border=\"1\" class=\"dataframe\">\n",
       "  <thead>\n",
       "    <tr style=\"text-align: right;\">\n",
       "      <th></th>\n",
       "      <th>CompetitionOpenSinceMonth_sin</th>\n",
       "      <th>Store</th>\n",
       "      <th>Assortment_c</th>\n",
       "      <th>Promo2SinceWeek_sin</th>\n",
       "      <th>StoreType_b</th>\n",
       "      <th>PromoInterval_Jan,Apr,Jul,Oct</th>\n",
       "      <th>CompetitionDistance</th>\n",
       "      <th>Promo2</th>\n",
       "      <th>PromoInterval_Mar,Jun,Sept,Dec</th>\n",
       "      <th>PromoInterval_Feb,May,Aug,Nov</th>\n",
       "      <th>Assortment_b</th>\n",
       "      <th>StoreType_d</th>\n",
       "      <th>Promo2SinceWeek_cos</th>\n",
       "      <th>StoreType_c</th>\n",
       "      <th>CompetitionOpenSinceMonth_cos</th>\n",
       "    </tr>\n",
       "  </thead>\n",
       "  <tbody>\n",
       "    <tr>\n",
       "      <th>0</th>\n",
       "      <td>-1.000000e+00</td>\n",
       "      <td>1</td>\n",
       "      <td>0</td>\n",
       "      <td>0.000000</td>\n",
       "      <td>0</td>\n",
       "      <td>0</td>\n",
       "      <td>7.147559</td>\n",
       "      <td>0</td>\n",
       "      <td>0</td>\n",
       "      <td>0</td>\n",
       "      <td>0</td>\n",
       "      <td>0</td>\n",
       "      <td>1.000000e+00</td>\n",
       "      <td>1</td>\n",
       "      <td>-1.836970e-16</td>\n",
       "    </tr>\n",
       "    <tr>\n",
       "      <th>1</th>\n",
       "      <td>-5.000000e-01</td>\n",
       "      <td>2</td>\n",
       "      <td>0</td>\n",
       "      <td>1.000000</td>\n",
       "      <td>0</td>\n",
       "      <td>1</td>\n",
       "      <td>6.347389</td>\n",
       "      <td>1</td>\n",
       "      <td>0</td>\n",
       "      <td>0</td>\n",
       "      <td>0</td>\n",
       "      <td>0</td>\n",
       "      <td>-1.608123e-16</td>\n",
       "      <td>0</td>\n",
       "      <td>8.660254e-01</td>\n",
       "    </tr>\n",
       "    <tr>\n",
       "      <th>2</th>\n",
       "      <td>-2.449294e-16</td>\n",
       "      <td>3</td>\n",
       "      <td>0</td>\n",
       "      <td>0.992709</td>\n",
       "      <td>0</td>\n",
       "      <td>1</td>\n",
       "      <td>9.556126</td>\n",
       "      <td>1</td>\n",
       "      <td>0</td>\n",
       "      <td>0</td>\n",
       "      <td>0</td>\n",
       "      <td>0</td>\n",
       "      <td>-1.205367e-01</td>\n",
       "      <td>0</td>\n",
       "      <td>1.000000e+00</td>\n",
       "    </tr>\n",
       "    <tr>\n",
       "      <th>3</th>\n",
       "      <td>-1.000000e+00</td>\n",
       "      <td>4</td>\n",
       "      <td>1</td>\n",
       "      <td>0.000000</td>\n",
       "      <td>0</td>\n",
       "      <td>0</td>\n",
       "      <td>6.431331</td>\n",
       "      <td>0</td>\n",
       "      <td>0</td>\n",
       "      <td>0</td>\n",
       "      <td>0</td>\n",
       "      <td>0</td>\n",
       "      <td>1.000000e+00</td>\n",
       "      <td>1</td>\n",
       "      <td>-1.836970e-16</td>\n",
       "    </tr>\n",
       "    <tr>\n",
       "      <th>4</th>\n",
       "      <td>8.660254e-01</td>\n",
       "      <td>5</td>\n",
       "      <td>0</td>\n",
       "      <td>0.000000</td>\n",
       "      <td>0</td>\n",
       "      <td>0</td>\n",
       "      <td>10.305982</td>\n",
       "      <td>0</td>\n",
       "      <td>0</td>\n",
       "      <td>0</td>\n",
       "      <td>0</td>\n",
       "      <td>0</td>\n",
       "      <td>1.000000e+00</td>\n",
       "      <td>0</td>\n",
       "      <td>-5.000000e-01</td>\n",
       "    </tr>\n",
       "    <tr>\n",
       "      <th>...</th>\n",
       "      <td>...</td>\n",
       "      <td>...</td>\n",
       "      <td>...</td>\n",
       "      <td>...</td>\n",
       "      <td>...</td>\n",
       "      <td>...</td>\n",
       "      <td>...</td>\n",
       "      <td>...</td>\n",
       "      <td>...</td>\n",
       "      <td>...</td>\n",
       "      <td>...</td>\n",
       "      <td>...</td>\n",
       "      <td>...</td>\n",
       "      <td>...</td>\n",
       "      <td>...</td>\n",
       "    </tr>\n",
       "    <tr>\n",
       "      <th>1110</th>\n",
       "      <td>1.224647e-16</td>\n",
       "      <td>1111</td>\n",
       "      <td>0</td>\n",
       "      <td>-0.568065</td>\n",
       "      <td>0</td>\n",
       "      <td>1</td>\n",
       "      <td>7.550135</td>\n",
       "      <td>1</td>\n",
       "      <td>0</td>\n",
       "      <td>0</td>\n",
       "      <td>0</td>\n",
       "      <td>0</td>\n",
       "      <td>-8.229839e-01</td>\n",
       "      <td>0</td>\n",
       "      <td>-1.000000e+00</td>\n",
       "    </tr>\n",
       "    <tr>\n",
       "      <th>1111</th>\n",
       "      <td>8.660254e-01</td>\n",
       "      <td>1112</td>\n",
       "      <td>1</td>\n",
       "      <td>0.000000</td>\n",
       "      <td>0</td>\n",
       "      <td>0</td>\n",
       "      <td>7.539559</td>\n",
       "      <td>0</td>\n",
       "      <td>0</td>\n",
       "      <td>0</td>\n",
       "      <td>0</td>\n",
       "      <td>0</td>\n",
       "      <td>1.000000e+00</td>\n",
       "      <td>1</td>\n",
       "      <td>-5.000000e-01</td>\n",
       "    </tr>\n",
       "    <tr>\n",
       "      <th>1112</th>\n",
       "      <td>0.000000e+00</td>\n",
       "      <td>1113</td>\n",
       "      <td>1</td>\n",
       "      <td>0.000000</td>\n",
       "      <td>0</td>\n",
       "      <td>0</td>\n",
       "      <td>9.133567</td>\n",
       "      <td>0</td>\n",
       "      <td>0</td>\n",
       "      <td>0</td>\n",
       "      <td>0</td>\n",
       "      <td>0</td>\n",
       "      <td>1.000000e+00</td>\n",
       "      <td>0</td>\n",
       "      <td>1.000000e+00</td>\n",
       "    </tr>\n",
       "    <tr>\n",
       "      <th>1113</th>\n",
       "      <td>0.000000e+00</td>\n",
       "      <td>1114</td>\n",
       "      <td>1</td>\n",
       "      <td>0.000000</td>\n",
       "      <td>0</td>\n",
       "      <td>0</td>\n",
       "      <td>6.769642</td>\n",
       "      <td>0</td>\n",
       "      <td>0</td>\n",
       "      <td>0</td>\n",
       "      <td>0</td>\n",
       "      <td>0</td>\n",
       "      <td>1.000000e+00</td>\n",
       "      <td>0</td>\n",
       "      <td>1.000000e+00</td>\n",
       "    </tr>\n",
       "    <tr>\n",
       "      <th>1114</th>\n",
       "      <td>0.000000e+00</td>\n",
       "      <td>1115</td>\n",
       "      <td>1</td>\n",
       "      <td>0.464723</td>\n",
       "      <td>0</td>\n",
       "      <td>0</td>\n",
       "      <td>8.585039</td>\n",
       "      <td>1</td>\n",
       "      <td>1</td>\n",
       "      <td>0</td>\n",
       "      <td>0</td>\n",
       "      <td>1</td>\n",
       "      <td>-8.854560e-01</td>\n",
       "      <td>0</td>\n",
       "      <td>1.000000e+00</td>\n",
       "    </tr>\n",
       "  </tbody>\n",
       "</table>\n",
       "<p>1115 rows × 15 columns</p>\n",
       "</div>"
      ],
      "text/plain": [
       "      CompetitionOpenSinceMonth_sin  Store  Assortment_c  Promo2SinceWeek_sin  \\\n",
       "0                     -1.000000e+00      1             0             0.000000   \n",
       "1                     -5.000000e-01      2             0             1.000000   \n",
       "2                     -2.449294e-16      3             0             0.992709   \n",
       "3                     -1.000000e+00      4             1             0.000000   \n",
       "4                      8.660254e-01      5             0             0.000000   \n",
       "...                             ...    ...           ...                  ...   \n",
       "1110                   1.224647e-16   1111             0            -0.568065   \n",
       "1111                   8.660254e-01   1112             1             0.000000   \n",
       "1112                   0.000000e+00   1113             1             0.000000   \n",
       "1113                   0.000000e+00   1114             1             0.000000   \n",
       "1114                   0.000000e+00   1115             1             0.464723   \n",
       "\n",
       "      StoreType_b  PromoInterval_Jan,Apr,Jul,Oct  CompetitionDistance  Promo2  \\\n",
       "0               0                              0             7.147559       0   \n",
       "1               0                              1             6.347389       1   \n",
       "2               0                              1             9.556126       1   \n",
       "3               0                              0             6.431331       0   \n",
       "4               0                              0            10.305982       0   \n",
       "...           ...                            ...                  ...     ...   \n",
       "1110            0                              1             7.550135       1   \n",
       "1111            0                              0             7.539559       0   \n",
       "1112            0                              0             9.133567       0   \n",
       "1113            0                              0             6.769642       0   \n",
       "1114            0                              0             8.585039       1   \n",
       "\n",
       "      PromoInterval_Mar,Jun,Sept,Dec  PromoInterval_Feb,May,Aug,Nov  \\\n",
       "0                                  0                              0   \n",
       "1                                  0                              0   \n",
       "2                                  0                              0   \n",
       "3                                  0                              0   \n",
       "4                                  0                              0   \n",
       "...                              ...                            ...   \n",
       "1110                               0                              0   \n",
       "1111                               0                              0   \n",
       "1112                               0                              0   \n",
       "1113                               0                              0   \n",
       "1114                               1                              0   \n",
       "\n",
       "      Assortment_b  StoreType_d  Promo2SinceWeek_cos  StoreType_c  \\\n",
       "0                0            0         1.000000e+00            1   \n",
       "1                0            0        -1.608123e-16            0   \n",
       "2                0            0        -1.205367e-01            0   \n",
       "3                0            0         1.000000e+00            1   \n",
       "4                0            0         1.000000e+00            0   \n",
       "...            ...          ...                  ...          ...   \n",
       "1110             0            0        -8.229839e-01            0   \n",
       "1111             0            0         1.000000e+00            1   \n",
       "1112             0            0         1.000000e+00            0   \n",
       "1113             0            0         1.000000e+00            0   \n",
       "1114             0            1        -8.854560e-01            0   \n",
       "\n",
       "      CompetitionOpenSinceMonth_cos  \n",
       "0                     -1.836970e-16  \n",
       "1                      8.660254e-01  \n",
       "2                      1.000000e+00  \n",
       "3                     -1.836970e-16  \n",
       "4                     -5.000000e-01  \n",
       "...                             ...  \n",
       "1110                  -1.000000e+00  \n",
       "1111                  -5.000000e-01  \n",
       "1112                   1.000000e+00  \n",
       "1113                   1.000000e+00  \n",
       "1114                   1.000000e+00  \n",
       "\n",
       "[1115 rows x 15 columns]"
      ]
     },
     "execution_count": 42,
     "metadata": {},
     "output_type": "execute_result"
    }
   ],
   "source": [
    "store_df[store_cols]"
   ]
  },
  {
   "cell_type": "code",
   "execution_count": null,
   "id": "opened-bracelet",
   "metadata": {},
   "outputs": [],
   "source": []
  },
  {
   "cell_type": "code",
   "execution_count": 43,
   "id": "statewide-running",
   "metadata": {},
   "outputs": [],
   "source": [
    "train_df = train_df.sort_values(['Store', 'Date'])"
   ]
  },
  {
   "cell_type": "code",
   "execution_count": 44,
   "id": "married-offset",
   "metadata": {},
   "outputs": [],
   "source": [
    "train_df['Day'] = train_df['Date'].dt.day\n",
    "train_df['Month'] = train_df['Date'].dt.month\n",
    "train_df['Year'] = train_df['Date'].dt.year"
   ]
  },
  {
   "cell_type": "code",
   "execution_count": 45,
   "id": "surprising-prairie",
   "metadata": {},
   "outputs": [],
   "source": [
    "#data['Year_scale'] = (data['Year'] - data['Year'].min()) / (data['Year'].max() - data['Year'].min())"
   ]
  },
  {
   "cell_type": "code",
   "execution_count": 46,
   "id": "british-austria",
   "metadata": {},
   "outputs": [],
   "source": [
    "train_df['DayOfWeek_sin'], train_df['DayOfWeek_cos'] = transform_cycle_feature(train_df['DayOfWeek'], 'days_in_week')\n",
    "train_df.drop('DayOfWeek', axis=1, inplace=True)\n",
    "\n",
    "train_df['Month_sin'], train_df['Month_cos'] = transform_cycle_feature(train_df['Month'], 'months_in_year')\n",
    "train_df.drop('Month', axis=1, inplace=True)\n",
    "\n",
    "train_df['Day_sin'], train_df['Day_cos'] = transform_cycle_feature(train_df['Day'], 'days_in_month')\n",
    "train_df.drop('Day', axis=1, inplace=True)"
   ]
  },
  {
   "cell_type": "code",
   "execution_count": 47,
   "id": "normal-surname",
   "metadata": {},
   "outputs": [
    {
     "data": {
      "image/png": "[encoded data removed]",
      "text/plain": [
       "<Figure size 432x288 with 1 Axes>"
      ]
     },
     "metadata": {
      "needs_background": "light"
     },
     "output_type": "display_data"
    }
   ],
   "source": [
    "plt.scatter(train_df['Day_sin'], train_df['Day_cos'])\n",
    "plt.show()"
   ]
  },
  {
   "cell_type": "code",
   "execution_count": 48,
   "id": "revised-conspiracy",
   "metadata": {},
   "outputs": [],
   "source": [
    "holiday_dummy = pd.get_dummies(train_df['StateHoliday'], prefix='StateHoliday', drop_first=True)\n",
    "train_df = pd.concat([train_df, holiday_dummy], axis=1) \n",
    "train_df.drop('StateHoliday', axis=1, inplace=True)\n"
   ]
  },
  {
   "cell_type": "code",
   "execution_count": null,
   "id": "spatial-german",
   "metadata": {},
   "outputs": [],
   "source": []
  },
  {
   "cell_type": "code",
   "execution_count": 49,
   "id": "close-locking",
   "metadata": {},
   "outputs": [],
   "source": [
    "# handle YEAR!\n",
    "data = train_df.merge(store_df[store_cols], on='Store', how='left')\n",
    "data.drop('Year', axis=1, inplace=True)"
   ]
  },
  {
   "cell_type": "code",
   "execution_count": null,
   "id": "concerned-shield",
   "metadata": {},
   "outputs": [],
   "source": []
  },
  {
   "cell_type": "code",
   "execution_count": 50,
   "id": "typical-bench",
   "metadata": {},
   "outputs": [],
   "source": [
    "# Normalize Data"
   ]
  },
  {
   "cell_type": "code",
   "execution_count": 51,
   "id": "acute-technology",
   "metadata": {},
   "outputs": [],
   "source": [
    "# Split train/validation/test\n",
    "# Length of forecasting steps 47. Choose window length 90\n"
   ]
  },
  {
   "cell_type": "code",
   "execution_count": 52,
   "id": "nutritional-burke",
   "metadata": {},
   "outputs": [],
   "source": [
    "val_date = pd.to_datetime('2015-01-01')"
   ]
  },
  {
   "cell_type": "code",
   "execution_count": 53,
   "id": "conscious-summer",
   "metadata": {},
   "outputs": [
    {
     "data": {
      "text/plain": [
       "Index(['Date', 'Store', 'Sales', 'Customers', 'Open', 'Promo', 'SchoolHoliday',\n",
       "       'DayOfWeek_sin', 'DayOfWeek_cos', 'Month_sin', 'Month_cos', 'Day_sin',\n",
       "       'Day_cos', 'StateHoliday_a', 'StateHoliday_b', 'StateHoliday_c',\n",
       "       'CompetitionOpenSinceMonth_sin', 'Assortment_c', 'Promo2SinceWeek_sin',\n",
       "       'StoreType_b', 'PromoInterval_Jan,Apr,Jul,Oct', 'CompetitionDistance',\n",
       "       'Promo2', 'PromoInterval_Mar,Jun,Sept,Dec',\n",
       "       'PromoInterval_Feb,May,Aug,Nov', 'Assortment_b', 'StoreType_d',\n",
       "       'Promo2SinceWeek_cos', 'StoreType_c', 'CompetitionOpenSinceMonth_cos'],\n",
       "      dtype='object')"
      ]
     },
     "execution_count": 53,
     "metadata": {},
     "output_type": "execute_result"
    }
   ],
   "source": [
    "data.columns"
   ]
  },
  {
   "cell_type": "code",
   "execution_count": 54,
   "id": "involved-cambodia",
   "metadata": {},
   "outputs": [
    {
     "data": {
      "text/plain": [
       "(1048712, 30)"
      ]
     },
     "execution_count": 54,
     "metadata": {},
     "output_type": "execute_result"
    }
   ],
   "source": [
    "data.shape"
   ]
  },
  {
   "cell_type": "code",
   "execution_count": 76,
   "id": "weekly-ordinance",
   "metadata": {},
   "outputs": [],
   "source": [
    "def save_pickle_file(name, obj):\n",
    "    with open(name + '.pickle', 'wb') as handle:\n",
    "        pickle.dump(obj, handle, protocol=pickle.HIGHEST_PROTOCOL)"
   ]
  },
  {
   "cell_type": "code",
   "execution_count": 56,
   "id": "duplicate-container",
   "metadata": {},
   "outputs": [
    {
     "data": {
      "application/vnd.jupyter.widget-view+json": {
       "model_id": "b73a9edb0ec144e3837a95107e87edbb",
       "version_major": 2,
       "version_minor": 0
      },
      "text/plain": [
       "  0%|          | 0/1115 [00:00<?, ?it/s]"
      ]
     },
     "metadata": {},
     "output_type": "display_data"
    }
   ],
   "source": [
    "scale_map = defaultdict(dict)\n",
    "scaled_data = pd.DataFrame()\n",
    "\n",
    "for store_id, full_store_data in tqdm(data.groupby('Store', as_index=False)):\n",
    "    train_store_data = full_store_data[full_store_data['Date'] < val_date]\n",
    "    for feature in ['Sales', 'Customers']:\n",
    "        mean = train_store_data[feature].mean()\n",
    "        std = train_store_data[feature].std()\n",
    "#         yearly_autocorr = get_yearly_autocorr(train_store_data[feature])\n",
    "        full_store_data.loc[:, feature] = (full_store_data[feature] - mean) / std\n",
    "        scale_map[store_id][feature] = {'mean': mean, 'std': std}\n",
    "        full_store_data[f'{feature}_mean'] = mean\n",
    "#         item_full_store_datadata['yearly_corr'] = yearly_autocorr\n",
    "    scaled_data = pd.concat([scaled_data, full_store_data], ignore_index=True)"
   ]
  },
  {
   "cell_type": "code",
   "execution_count": 57,
   "id": "measured-serbia",
   "metadata": {},
   "outputs": [
    {
     "data": {
      "text/html": [
       "<div>\n",
       "<style scoped>\n",
       "    .dataframe tbody tr th:only-of-type {\n",
       "        vertical-align: middle;\n",
       "    }\n",
       "\n",
       "    .dataframe tbody tr th {\n",
       "        vertical-align: top;\n",
       "    }\n",
       "\n",
       "    .dataframe thead th {\n",
       "        text-align: right;\n",
       "    }\n",
       "</style>\n",
       "<table border=\"1\" class=\"dataframe\">\n",
       "  <thead>\n",
       "    <tr style=\"text-align: right;\">\n",
       "      <th></th>\n",
       "      <th>Date</th>\n",
       "      <th>Store</th>\n",
       "      <th>Sales</th>\n",
       "      <th>Customers</th>\n",
       "      <th>Open</th>\n",
       "      <th>Promo</th>\n",
       "      <th>SchoolHoliday</th>\n",
       "      <th>DayOfWeek_sin</th>\n",
       "      <th>DayOfWeek_cos</th>\n",
       "      <th>Month_sin</th>\n",
       "      <th>...</th>\n",
       "      <th>Promo2</th>\n",
       "      <th>PromoInterval_Mar,Jun,Sept,Dec</th>\n",
       "      <th>PromoInterval_Feb,May,Aug,Nov</th>\n",
       "      <th>Assortment_b</th>\n",
       "      <th>StoreType_d</th>\n",
       "      <th>Promo2SinceWeek_cos</th>\n",
       "      <th>StoreType_c</th>\n",
       "      <th>CompetitionOpenSinceMonth_cos</th>\n",
       "      <th>Sales_mean</th>\n",
       "      <th>Customers_mean</th>\n",
       "    </tr>\n",
       "  </thead>\n",
       "  <tbody>\n",
       "    <tr>\n",
       "      <th>0</th>\n",
       "      <td>2013-01-02</td>\n",
       "      <td>1</td>\n",
       "      <td>0.648587</td>\n",
       "      <td>0.897567</td>\n",
       "      <td>1.0</td>\n",
       "      <td>0.0</td>\n",
       "      <td>1.0</td>\n",
       "      <td>0.433884</td>\n",
       "      <td>-0.900969</td>\n",
       "      <td>0.5</td>\n",
       "      <td>...</td>\n",
       "      <td>0</td>\n",
       "      <td>0</td>\n",
       "      <td>0</td>\n",
       "      <td>0</td>\n",
       "      <td>0</td>\n",
       "      <td>1.000000</td>\n",
       "      <td>1</td>\n",
       "      <td>-1.836970e-16</td>\n",
       "      <td>4857.122085</td>\n",
       "      <td>578.886145</td>\n",
       "    </tr>\n",
       "    <tr>\n",
       "      <th>1</th>\n",
       "      <td>2013-01-03</td>\n",
       "      <td>1</td>\n",
       "      <td>-0.510985</td>\n",
       "      <td>-0.008925</td>\n",
       "      <td>1.0</td>\n",
       "      <td>0.0</td>\n",
       "      <td>1.0</td>\n",
       "      <td>-0.433884</td>\n",
       "      <td>-0.900969</td>\n",
       "      <td>0.5</td>\n",
       "      <td>...</td>\n",
       "      <td>0</td>\n",
       "      <td>0</td>\n",
       "      <td>0</td>\n",
       "      <td>0</td>\n",
       "      <td>0</td>\n",
       "      <td>1.000000</td>\n",
       "      <td>1</td>\n",
       "      <td>-1.836970e-16</td>\n",
       "      <td>4857.122085</td>\n",
       "      <td>578.886145</td>\n",
       "    </tr>\n",
       "    <tr>\n",
       "      <th>2</th>\n",
       "      <td>2013-01-04</td>\n",
       "      <td>1</td>\n",
       "      <td>-0.357725</td>\n",
       "      <td>0.404032</td>\n",
       "      <td>1.0</td>\n",
       "      <td>0.0</td>\n",
       "      <td>1.0</td>\n",
       "      <td>-0.974928</td>\n",
       "      <td>-0.222521</td>\n",
       "      <td>0.5</td>\n",
       "      <td>...</td>\n",
       "      <td>0</td>\n",
       "      <td>0</td>\n",
       "      <td>0</td>\n",
       "      <td>0</td>\n",
       "      <td>0</td>\n",
       "      <td>1.000000</td>\n",
       "      <td>1</td>\n",
       "      <td>-1.836970e-16</td>\n",
       "      <td>4857.122085</td>\n",
       "      <td>578.886145</td>\n",
       "    </tr>\n",
       "    <tr>\n",
       "      <th>3</th>\n",
       "      <td>2013-01-05</td>\n",
       "      <td>1</td>\n",
       "      <td>0.134828</td>\n",
       "      <td>0.565186</td>\n",
       "      <td>1.0</td>\n",
       "      <td>0.0</td>\n",
       "      <td>1.0</td>\n",
       "      <td>-0.781831</td>\n",
       "      <td>0.623490</td>\n",
       "      <td>0.5</td>\n",
       "      <td>...</td>\n",
       "      <td>0</td>\n",
       "      <td>0</td>\n",
       "      <td>0</td>\n",
       "      <td>0</td>\n",
       "      <td>0</td>\n",
       "      <td>1.000000</td>\n",
       "      <td>1</td>\n",
       "      <td>-1.836970e-16</td>\n",
       "      <td>4857.122085</td>\n",
       "      <td>578.886145</td>\n",
       "    </tr>\n",
       "    <tr>\n",
       "      <th>4</th>\n",
       "      <td>2013-01-06</td>\n",
       "      <td>1</td>\n",
       "      <td>0.134828</td>\n",
       "      <td>0.565186</td>\n",
       "      <td>0.0</td>\n",
       "      <td>0.0</td>\n",
       "      <td>1.0</td>\n",
       "      <td>-0.781831</td>\n",
       "      <td>0.623490</td>\n",
       "      <td>0.5</td>\n",
       "      <td>...</td>\n",
       "      <td>0</td>\n",
       "      <td>0</td>\n",
       "      <td>0</td>\n",
       "      <td>0</td>\n",
       "      <td>0</td>\n",
       "      <td>1.000000</td>\n",
       "      <td>1</td>\n",
       "      <td>-1.836970e-16</td>\n",
       "      <td>4857.122085</td>\n",
       "      <td>578.886145</td>\n",
       "    </tr>\n",
       "    <tr>\n",
       "      <th>...</th>\n",
       "      <td>...</td>\n",
       "      <td>...</td>\n",
       "      <td>...</td>\n",
       "      <td>...</td>\n",
       "      <td>...</td>\n",
       "      <td>...</td>\n",
       "      <td>...</td>\n",
       "      <td>...</td>\n",
       "      <td>...</td>\n",
       "      <td>...</td>\n",
       "      <td>...</td>\n",
       "      <td>...</td>\n",
       "      <td>...</td>\n",
       "      <td>...</td>\n",
       "      <td>...</td>\n",
       "      <td>...</td>\n",
       "      <td>...</td>\n",
       "      <td>...</td>\n",
       "      <td>...</td>\n",
       "      <td>...</td>\n",
       "      <td>...</td>\n",
       "    </tr>\n",
       "    <tr>\n",
       "      <th>1048707</th>\n",
       "      <td>2015-07-27</td>\n",
       "      <td>1115</td>\n",
       "      <td>2.799967</td>\n",
       "      <td>1.966155</td>\n",
       "      <td>1.0</td>\n",
       "      <td>1.0</td>\n",
       "      <td>1.0</td>\n",
       "      <td>0.781831</td>\n",
       "      <td>0.623490</td>\n",
       "      <td>-0.5</td>\n",
       "      <td>...</td>\n",
       "      <td>1</td>\n",
       "      <td>1</td>\n",
       "      <td>0</td>\n",
       "      <td>0</td>\n",
       "      <td>1</td>\n",
       "      <td>-0.885456</td>\n",
       "      <td>0</td>\n",
       "      <td>1.000000e+00</td>\n",
       "      <td>6146.237311</td>\n",
       "      <td>428.728395</td>\n",
       "    </tr>\n",
       "    <tr>\n",
       "      <th>1048708</th>\n",
       "      <td>2015-07-28</td>\n",
       "      <td>1115</td>\n",
       "      <td>1.193858</td>\n",
       "      <td>0.781669</td>\n",
       "      <td>1.0</td>\n",
       "      <td>1.0</td>\n",
       "      <td>1.0</td>\n",
       "      <td>0.974928</td>\n",
       "      <td>-0.222521</td>\n",
       "      <td>-0.5</td>\n",
       "      <td>...</td>\n",
       "      <td>1</td>\n",
       "      <td>1</td>\n",
       "      <td>0</td>\n",
       "      <td>0</td>\n",
       "      <td>1</td>\n",
       "      <td>-0.885456</td>\n",
       "      <td>0</td>\n",
       "      <td>1.000000e+00</td>\n",
       "      <td>6146.237311</td>\n",
       "      <td>428.728395</td>\n",
       "    </tr>\n",
       "    <tr>\n",
       "      <th>1048709</th>\n",
       "      <td>2015-07-29</td>\n",
       "      <td>1115</td>\n",
       "      <td>0.928933</td>\n",
       "      <td>0.485547</td>\n",
       "      <td>1.0</td>\n",
       "      <td>1.0</td>\n",
       "      <td>1.0</td>\n",
       "      <td>0.433884</td>\n",
       "      <td>-0.900969</td>\n",
       "      <td>-0.5</td>\n",
       "      <td>...</td>\n",
       "      <td>1</td>\n",
       "      <td>1</td>\n",
       "      <td>0</td>\n",
       "      <td>0</td>\n",
       "      <td>1</td>\n",
       "      <td>-0.885456</td>\n",
       "      <td>0</td>\n",
       "      <td>1.000000e+00</td>\n",
       "      <td>6146.237311</td>\n",
       "      <td>428.728395</td>\n",
       "    </tr>\n",
       "    <tr>\n",
       "      <th>1048710</th>\n",
       "      <td>2015-07-30</td>\n",
       "      <td>1115</td>\n",
       "      <td>1.385193</td>\n",
       "      <td>0.803604</td>\n",
       "      <td>1.0</td>\n",
       "      <td>1.0</td>\n",
       "      <td>1.0</td>\n",
       "      <td>-0.433884</td>\n",
       "      <td>-0.900969</td>\n",
       "      <td>-0.5</td>\n",
       "      <td>...</td>\n",
       "      <td>1</td>\n",
       "      <td>1</td>\n",
       "      <td>0</td>\n",
       "      <td>0</td>\n",
       "      <td>1</td>\n",
       "      <td>-0.885456</td>\n",
       "      <td>0</td>\n",
       "      <td>1.000000e+00</td>\n",
       "      <td>6146.237311</td>\n",
       "      <td>428.728395</td>\n",
       "    </tr>\n",
       "    <tr>\n",
       "      <th>1048711</th>\n",
       "      <td>2015-07-31</td>\n",
       "      <td>1115</td>\n",
       "      <td>1.553837</td>\n",
       "      <td>1.198433</td>\n",
       "      <td>1.0</td>\n",
       "      <td>1.0</td>\n",
       "      <td>1.0</td>\n",
       "      <td>-0.974928</td>\n",
       "      <td>-0.222521</td>\n",
       "      <td>-0.5</td>\n",
       "      <td>...</td>\n",
       "      <td>1</td>\n",
       "      <td>1</td>\n",
       "      <td>0</td>\n",
       "      <td>0</td>\n",
       "      <td>1</td>\n",
       "      <td>-0.885456</td>\n",
       "      <td>0</td>\n",
       "      <td>1.000000e+00</td>\n",
       "      <td>6146.237311</td>\n",
       "      <td>428.728395</td>\n",
       "    </tr>\n",
       "  </tbody>\n",
       "</table>\n",
       "<p>1048712 rows × 32 columns</p>\n",
       "</div>"
      ],
      "text/plain": [
       "              Date  Store     Sales  Customers  Open  Promo  SchoolHoliday  \\\n",
       "0       2013-01-02      1  0.648587   0.897567   1.0    0.0            1.0   \n",
       "1       2013-01-03      1 -0.510985  -0.008925   1.0    0.0            1.0   \n",
       "2       2013-01-04      1 -0.357725   0.404032   1.0    0.0            1.0   \n",
       "3       2013-01-05      1  0.134828   0.565186   1.0    0.0            1.0   \n",
       "4       2013-01-06      1  0.134828   0.565186   0.0    0.0            1.0   \n",
       "...            ...    ...       ...        ...   ...    ...            ...   \n",
       "1048707 2015-07-27   1115  2.799967   1.966155   1.0    1.0            1.0   \n",
       "1048708 2015-07-28   1115  1.193858   0.781669   1.0    1.0            1.0   \n",
       "1048709 2015-07-29   1115  0.928933   0.485547   1.0    1.0            1.0   \n",
       "1048710 2015-07-30   1115  1.385193   0.803604   1.0    1.0            1.0   \n",
       "1048711 2015-07-31   1115  1.553837   1.198433   1.0    1.0            1.0   \n",
       "\n",
       "         DayOfWeek_sin  DayOfWeek_cos  Month_sin  ...  Promo2  \\\n",
       "0             0.433884      -0.900969        0.5  ...       0   \n",
       "1            -0.433884      -0.900969        0.5  ...       0   \n",
       "2            -0.974928      -0.222521        0.5  ...       0   \n",
       "3            -0.781831       0.623490        0.5  ...       0   \n",
       "4            -0.781831       0.623490        0.5  ...       0   \n",
       "...                ...            ...        ...  ...     ...   \n",
       "1048707       0.781831       0.623490       -0.5  ...       1   \n",
       "1048708       0.974928      -0.222521       -0.5  ...       1   \n",
       "1048709       0.433884      -0.900969       -0.5  ...       1   \n",
       "1048710      -0.433884      -0.900969       -0.5  ...       1   \n",
       "1048711      -0.974928      -0.222521       -0.5  ...       1   \n",
       "\n",
       "         PromoInterval_Mar,Jun,Sept,Dec  PromoInterval_Feb,May,Aug,Nov  \\\n",
       "0                                     0                              0   \n",
       "1                                     0                              0   \n",
       "2                                     0                              0   \n",
       "3                                     0                              0   \n",
       "4                                     0                              0   \n",
       "...                                 ...                            ...   \n",
       "1048707                               1                              0   \n",
       "1048708                               1                              0   \n",
       "1048709                               1                              0   \n",
       "1048710                               1                              0   \n",
       "1048711                               1                              0   \n",
       "\n",
       "         Assortment_b  StoreType_d  Promo2SinceWeek_cos  StoreType_c  \\\n",
       "0                   0            0             1.000000            1   \n",
       "1                   0            0             1.000000            1   \n",
       "2                   0            0             1.000000            1   \n",
       "3                   0            0             1.000000            1   \n",
       "4                   0            0             1.000000            1   \n",
       "...               ...          ...                  ...          ...   \n",
       "1048707             0            1            -0.885456            0   \n",
       "1048708             0            1            -0.885456            0   \n",
       "1048709             0            1            -0.885456            0   \n",
       "1048710             0            1            -0.885456            0   \n",
       "1048711             0            1            -0.885456            0   \n",
       "\n",
       "         CompetitionOpenSinceMonth_cos   Sales_mean  Customers_mean  \n",
       "0                        -1.836970e-16  4857.122085      578.886145  \n",
       "1                        -1.836970e-16  4857.122085      578.886145  \n",
       "2                        -1.836970e-16  4857.122085      578.886145  \n",
       "3                        -1.836970e-16  4857.122085      578.886145  \n",
       "4                        -1.836970e-16  4857.122085      578.886145  \n",
       "...                                ...          ...             ...  \n",
       "1048707                   1.000000e+00  6146.237311      428.728395  \n",
       "1048708                   1.000000e+00  6146.237311      428.728395  \n",
       "1048709                   1.000000e+00  6146.237311      428.728395  \n",
       "1048710                   1.000000e+00  6146.237311      428.728395  \n",
       "1048711                   1.000000e+00  6146.237311      428.728395  \n",
       "\n",
       "[1048712 rows x 32 columns]"
      ]
     },
     "execution_count": 57,
     "metadata": {},
     "output_type": "execute_result"
    }
   ],
   "source": [
    "scaled_data"
   ]
  },
  {
   "cell_type": "code",
   "execution_count": 58,
   "id": "becoming-biology",
   "metadata": {},
   "outputs": [],
   "source": [
    "mean = scaled_data[scaled_data['Date'] < val_date]['CompetitionDistance'].mean()\n",
    "std = scaled_data[scaled_data['Date'] < val_date]['CompetitionDistance'].std()\n",
    "scaled_data['CompetitionDistance'] = (scaled_data['CompetitionDistance'] - mean) / std\n",
    "scale_map[feature]['mean'] = mean\n",
    "scale_map[feature]['std'] = mean"
   ]
  },
  {
   "cell_type": "code",
   "execution_count": 59,
   "id": "difficult-tension",
   "metadata": {},
   "outputs": [],
   "source": [
    "save_pickle_file('scale_Sales_Customers_Distance', scale_map)"
   ]
  },
  {
   "cell_type": "code",
   "execution_count": 61,
   "id": "hollywood-iraqi",
   "metadata": {},
   "outputs": [
    {
     "data": {
      "text/plain": [
       "(1048712, 32)"
      ]
     },
     "execution_count": 61,
     "metadata": {},
     "output_type": "execute_result"
    }
   ],
   "source": [
    "scaled_data.shape"
   ]
  },
  {
   "cell_type": "code",
   "execution_count": 62,
   "id": "furnished-running",
   "metadata": {},
   "outputs": [
    {
     "data": {
      "text/plain": [
       "(1048712, 30)"
      ]
     },
     "execution_count": 62,
     "metadata": {},
     "output_type": "execute_result"
    }
   ],
   "source": [
    "data.shape"
   ]
  },
  {
   "cell_type": "code",
   "execution_count": 78,
   "id": "aggressive-primary",
   "metadata": {},
   "outputs": [],
   "source": [
    "def reduce_mem_usage(df, verbose=True):\n",
    "    numerics = ['int16', 'int32', 'int64', 'float16', 'float32', 'float64']\n",
    "    start_mem = df.memory_usage().sum() / 1024**2    \n",
    "    for col in df.columns:\n",
    "        col_type = df[col].dtypes\n",
    "        if col_type in numerics:\n",
    "            c_min = df[col].min()\n",
    "            c_max = df[col].max()\n",
    "            if str(col_type)[:3] == 'int':\n",
    "                if c_min > np.iinfo(np.int8).min and c_max < np.iinfo(np.int8).max:\n",
    "                    df[col] = df[col].astype(np.int8)\n",
    "                elif c_min > np.iinfo(np.int16).min and c_max < np.iinfo(np.int16).max:\n",
    "                    df[col] = df[col].astype(np.int16)\n",
    "                elif c_min > np.iinfo(np.int32).min and c_max < np.iinfo(np.int32).max:\n",
    "                    df[col] = df[col].astype(np.int32)\n",
    "                elif c_min > np.iinfo(np.int64).min and c_max < np.iinfo(np.int64).max:\n",
    "                    df[col] = df[col].astype(np.int64)  \n",
    "            else:\n",
    "                if c_min > np.finfo(np.float16).min and c_max < np.finfo(np.float16).max:\n",
    "                    df[col] = df[col].astype(np.float16)\n",
    "                elif c_min > np.finfo(np.float32).min and c_max < np.finfo(np.float32).max:\n",
    "                    df[col] = df[col].astype(np.float32)\n",
    "                else:\n",
    "                    df[col] = df[col].astype(np.float64)    \n",
    "    end_mem = df.memory_usage().sum() / 1024**2\n",
    "    if verbose: print('Mem. usage decreased to {:5.2f} Mb ({:.1f}% reduction)'.format(end_mem, 100 * (start_mem - end_mem) / start_mem))\n",
    "    return df"
   ]
  },
  {
   "cell_type": "code",
   "execution_count": 80,
   "id": "inappropriate-python",
   "metadata": {},
   "outputs": [
    {
     "name": "stdout",
     "output_type": "stream",
     "text": [
      "Mem. usage decreased to 58.01 Mb (0.0% reduction)\n"
     ]
    }
   ],
   "source": [
    "scaled_data = reduce_mem_usage(scaled_data, verbose=True)"
   ]
  },
  {
   "cell_type": "code",
   "execution_count": 81,
   "id": "welcome-tissue",
   "metadata": {},
   "outputs": [],
   "source": [
    "save_pickle_file('scale_data_' + val_date.strftime('%Y-%m-%d') + '_val', scaled_data)"
   ]
  },
  {
   "cell_type": "code",
   "execution_count": null,
   "id": "employed-carroll",
   "metadata": {},
   "outputs": [],
   "source": []
  }
 ],
 "metadata": {
  "kernelspec": {
   "display_name": "Python (takehome-test)",
   "language": "python",
   "name": "venv"
  },
  "language_info": {
   "codemirror_mode": {
    "name": "ipython",
    "version": 3
   },
   "file_extension": ".py",
   "mimetype": "text/x-python",
   "name": "python",
   "nbconvert_exporter": "python",
   "pygments_lexer": "ipython3",
   "version": "3.8.6"
  }
 },
 "nbformat": 4,
 "nbformat_minor": 5
}
