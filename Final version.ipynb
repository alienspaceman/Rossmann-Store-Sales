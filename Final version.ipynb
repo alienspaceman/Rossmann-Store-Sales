{
 "cells": [
  {
   "cell_type": "code",
   "execution_count": 1,
   "metadata": {},
   "outputs": [],
   "source": [
    "%load_ext autoreload\n",
    "%autoreload 2"
   ]
  },
  {
   "cell_type": "code",
   "execution_count": 2,
   "metadata": {},
   "outputs": [],
   "source": [
    "import logging\n",
    "import numpy as np\n",
    "import pandas as pd"
   ]
  },
  {
   "cell_type": "code",
   "execution_count": 3,
   "metadata": {},
   "outputs": [
    {
     "name": "stderr",
     "output_type": "stream",
     "text": [
      "\r",
      "0it [00:00, ?it/s]"
     ]
    }
   ],
   "source": [
    "from utils import preprocessing_utils, general_utils"
   ]
  },
  {
   "cell_type": "markdown",
   "metadata": {},
   "source": [
    "Load datasets: train, test, store"
   ]
  },
  {
   "cell_type": "code",
   "execution_count": 4,
   "metadata": {},
   "outputs": [],
   "source": [
    "DATA_PATH = 'data/'"
   ]
  },
  {
   "cell_type": "code",
   "execution_count": 5,
   "metadata": {},
   "outputs": [
    {
     "name": "stderr",
     "output_type": "stream",
     "text": [
      "0it [00:00, ?it/s]\n"
     ]
    }
   ],
   "source": [
    "train_df = pd.read_csv(DATA_PATH + 'train.csv', low_memory=False)\n",
    "test_df = pd.read_csv(DATA_PATH + 'test.csv', low_memory=False)\n",
    "store_df = pd.read_csv(DATA_PATH + 'store.csv')"
   ]
  },
  {
   "cell_type": "code",
   "execution_count": 6,
   "metadata": {},
   "outputs": [],
   "source": [
    "train_df['Date'] = pd.to_datetime(train_df['Date'], infer_datetime_format=True)\n",
    "test_df['Date'] = pd.to_datetime(test_df['Date'], infer_datetime_format=True)"
   ]
  },
  {
   "cell_type": "code",
   "execution_count": 7,
   "metadata": {},
   "outputs": [
    {
     "name": "stdout",
     "output_type": "stream",
     "text": [
      "2013-01-01 00:00:00 2015-07-31 00:00:00\n",
      "2015-08-01 00:00:00 2015-09-17 00:00:00\n"
     ]
    }
   ],
   "source": [
    "print(train_df['Date'].min(), train_df['Date'].max())\n",
    "print(test_df['Date'].min(), test_df['Date'].max())"
   ]
  },
  {
   "cell_type": "code",
   "execution_count": 8,
   "metadata": {},
   "outputs": [],
   "source": [
    "store_sample = np.random.choice(1000, 100)"
   ]
  },
  {
   "cell_type": "code",
   "execution_count": 9,
   "metadata": {},
   "outputs": [],
   "source": [
    "train_df = train_df[train_df['Store'].isin(store_sample)].reset_index(drop=True)\n",
    "test_df = test_df[test_df['Store'].isin(store_sample)].reset_index(drop=True)\n",
    "store_df = store_df[store_df['Store'].isin(store_sample)].reset_index(drop=True)\n"
   ]
  },
  {
   "cell_type": "markdown",
   "metadata": {},
   "source": [
    "We have data 2013, 2014 and 2015 till 2015-07-31. \\\n",
    "We need to predict sales for the next 1,5 month i.e. 47 days."
   ]
  },
  {
   "cell_type": "markdown",
   "metadata": {},
   "source": [
    "## Data Preparation"
   ]
  },
  {
   "cell_type": "markdown",
   "metadata": {},
   "source": [
    "Fill missing values"
   ]
  },
  {
   "cell_type": "code",
   "execution_count": 10,
   "metadata": {},
   "outputs": [],
   "source": [
    "test_df['Open'] = test_df.groupby('Store')['Open'].ffill()\n",
    "test_df['Open'].fillna(0, inplace=True)"
   ]
  },
  {
   "cell_type": "code",
   "execution_count": 11,
   "metadata": {},
   "outputs": [
    {
     "data": {
      "text/plain": [
       "Id               0\n",
       "Store            0\n",
       "DayOfWeek        0\n",
       "Date             0\n",
       "Open             0\n",
       "Promo            0\n",
       "StateHoliday     0\n",
       "SchoolHoliday    0\n",
       "dtype: int64"
      ]
     },
     "execution_count": 11,
     "metadata": {},
     "output_type": "execute_result"
    }
   ],
   "source": [
    "test_df.isna().sum()"
   ]
  },
  {
   "cell_type": "markdown",
   "metadata": {},
   "source": [
    "Remove records for the dates when stores were closed. \\\n",
    "WHY? \\\n",
    "To prevent bias\n",
    "HOW? \\\n",
    "1. Select indeces of records for the dates when stores were closed.\n",
    "2. Save information about promos and holidays on that dates.\n",
    "3. Fill the gaps in date range\n",
    "3. Fill the gaps in sales and customers values by interpolation\n",
    "4. Fill missing values in promos and holidays from the previously saved data where it's possible\n",
    "5. Fill left missing values with the nearest values"
   ]
  },
  {
   "cell_type": "code",
   "execution_count": 12,
   "metadata": {},
   "outputs": [
    {
     "name": "stderr",
     "output_type": "stream",
     "text": [
      "2021-02-25 12:11:00,988 | INFO : Shape before removal: (84889, 9)\n",
      "2021-02-25 12:11:01,090 | INFO : Shape after removal: (70245, 9)\n",
      "2021-02-25 12:11:01,287 | INFO : Shape after filling date gaps: (89395, 9)\n",
      "2021-02-25 12:11:01,626 | INFO : Number of missing values in df: 0\n"
     ]
    }
   ],
   "source": [
    "train_df = preprocessing_utils.interpolate_sales_customers(train_df, method='nearest')"
   ]
  },
  {
   "cell_type": "code",
   "execution_count": 13,
   "metadata": {},
   "outputs": [
    {
     "data": {
      "text/html": [
       "<div>\n",
       "<style scoped>\n",
       "    .dataframe tbody tr th:only-of-type {\n",
       "        vertical-align: middle;\n",
       "    }\n",
       "\n",
       "    .dataframe tbody tr th {\n",
       "        vertical-align: top;\n",
       "    }\n",
       "\n",
       "    .dataframe thead th {\n",
       "        text-align: right;\n",
       "    }\n",
       "</style>\n",
       "<table border=\"1\" class=\"dataframe\">\n",
       "  <thead>\n",
       "    <tr style=\"text-align: right;\">\n",
       "      <th></th>\n",
       "      <th>Date</th>\n",
       "      <th>Store</th>\n",
       "      <th>DayOfWeek</th>\n",
       "      <th>Sales</th>\n",
       "      <th>Customers</th>\n",
       "      <th>Open</th>\n",
       "      <th>Promo</th>\n",
       "      <th>StateHoliday</th>\n",
       "      <th>SchoolHoliday</th>\n",
       "    </tr>\n",
       "  </thead>\n",
       "  <tbody>\n",
       "    <tr>\n",
       "      <th>0</th>\n",
       "      <td>2013-01-02</td>\n",
       "      <td>51</td>\n",
       "      <td>3.0</td>\n",
       "      <td>5152.0</td>\n",
       "      <td>428.0</td>\n",
       "      <td>1.0</td>\n",
       "      <td>0.0</td>\n",
       "      <td>0</td>\n",
       "      <td>1.0</td>\n",
       "    </tr>\n",
       "    <tr>\n",
       "      <th>1</th>\n",
       "      <td>2013-01-03</td>\n",
       "      <td>51</td>\n",
       "      <td>4.0</td>\n",
       "      <td>4585.0</td>\n",
       "      <td>384.0</td>\n",
       "      <td>1.0</td>\n",
       "      <td>0.0</td>\n",
       "      <td>0</td>\n",
       "      <td>1.0</td>\n",
       "    </tr>\n",
       "    <tr>\n",
       "      <th>2</th>\n",
       "      <td>2013-01-04</td>\n",
       "      <td>51</td>\n",
       "      <td>5.0</td>\n",
       "      <td>6323.0</td>\n",
       "      <td>474.0</td>\n",
       "      <td>1.0</td>\n",
       "      <td>0.0</td>\n",
       "      <td>0</td>\n",
       "      <td>1.0</td>\n",
       "    </tr>\n",
       "    <tr>\n",
       "      <th>3</th>\n",
       "      <td>2013-01-05</td>\n",
       "      <td>51</td>\n",
       "      <td>6.0</td>\n",
       "      <td>6605.0</td>\n",
       "      <td>507.0</td>\n",
       "      <td>1.0</td>\n",
       "      <td>0.0</td>\n",
       "      <td>0</td>\n",
       "      <td>0.0</td>\n",
       "    </tr>\n",
       "    <tr>\n",
       "      <th>4</th>\n",
       "      <td>2013-01-06</td>\n",
       "      <td>51</td>\n",
       "      <td>6.0</td>\n",
       "      <td>6605.0</td>\n",
       "      <td>507.0</td>\n",
       "      <td>0.0</td>\n",
       "      <td>0.0</td>\n",
       "      <td>a</td>\n",
       "      <td>0.0</td>\n",
       "    </tr>\n",
       "  </tbody>\n",
       "</table>\n",
       "</div>"
      ],
      "text/plain": [
       "        Date  Store  DayOfWeek   Sales  Customers  Open  Promo StateHoliday  \\\n",
       "0 2013-01-02     51        3.0  5152.0      428.0   1.0    0.0            0   \n",
       "1 2013-01-03     51        4.0  4585.0      384.0   1.0    0.0            0   \n",
       "2 2013-01-04     51        5.0  6323.0      474.0   1.0    0.0            0   \n",
       "3 2013-01-05     51        6.0  6605.0      507.0   1.0    0.0            0   \n",
       "4 2013-01-06     51        6.0  6605.0      507.0   0.0    0.0            a   \n",
       "\n",
       "   SchoolHoliday  \n",
       "0            1.0  \n",
       "1            1.0  \n",
       "2            1.0  \n",
       "3            0.0  \n",
       "4            0.0  "
      ]
     },
     "execution_count": 13,
     "metadata": {},
     "output_type": "execute_result"
    }
   ],
   "source": [
    "train_df.head()"
   ]
  },
  {
   "cell_type": "markdown",
   "metadata": {},
   "source": [
    "### Preprocess store data"
   ]
  },
  {
   "cell_type": "code",
   "execution_count": 14,
   "metadata": {
    "scrolled": false
   },
   "outputs": [
    {
     "name": "stderr",
     "output_type": "stream",
     "text": [
      "2021-02-25 12:11:05,561 | INFO : Fill NaN in CompetitionDistance, CompetitionOpenSinceMonth, CompetitionOpenSinceYear with 0\n",
      "2021-02-25 12:11:05,565 | INFO : Fill NaN in Promo2SinceWeek, Promo2SinceYear with 0\n",
      "2021-02-25 12:11:05,567 | INFO : Fill NaN in PromoInterval with \"\"\n"
     ]
    }
   ],
   "source": [
    "store_df = preprocessing_utils.fill_nans_store_df(store_df)"
   ]
  },
  {
   "cell_type": "code",
   "execution_count": 15,
   "metadata": {},
   "outputs": [],
   "source": [
    "DATA_PATH = 'largefiles/'"
   ]
  },
  {
   "cell_type": "code",
   "execution_count": 16,
   "metadata": {},
   "outputs": [
    {
     "name": "stderr",
     "output_type": "stream",
     "text": [
      "2021-02-25 12:11:07,468 | INFO : Encode labels in ['StoreType', 'Assortment', 'PromoInterval']\n",
      "2021-02-25 12:11:07,473 | INFO : Transform log1p CompetitionDistance\n",
      "2021-02-25 12:11:07,475 | INFO : Transform date features\n",
      "2021-02-25 12:11:07,484 | INFO : Save label encoder to largefiles/store_cat_cols_le.pkl\n"
     ]
    }
   ],
   "source": [
    "store_df, store_label_encoder = preprocessing_utils.transform_store_df(store_df, DATA_PATH + 'store_cat_cols_le')"
   ]
  },
  {
   "cell_type": "code",
   "execution_count": 17,
   "metadata": {},
   "outputs": [
    {
     "data": {
      "text/plain": [
       "{'StoreType': {'a': 0, 'c': 1, 'd': 2},\n",
       " 'Assortment': {'a': 0, 'c': 1},\n",
       " 'PromoInterval': {'': 0,\n",
       "  'Feb,May,Aug,Nov': 1,\n",
       "  'Jan,Apr,Jul,Oct': 2,\n",
       "  'Mar,Jun,Sept,Dec': 3}}"
      ]
     },
     "execution_count": 17,
     "metadata": {},
     "output_type": "execute_result"
    }
   ],
   "source": [
    "store_label_encoder"
   ]
  },
  {
   "cell_type": "markdown",
   "metadata": {},
   "source": [
    "### Preprocess train/test"
   ]
  },
  {
   "cell_type": "code",
   "execution_count": 18,
   "metadata": {},
   "outputs": [],
   "source": [
    "test_df['Sales'] = np.nan\n",
    "test_df['Customers'] = np.nan\n",
    "sales_df = pd.concat([train_df, test_df], ignore_index=True)"
   ]
  },
  {
   "cell_type": "code",
   "execution_count": 19,
   "metadata": {},
   "outputs": [
    {
     "data": {
      "text/plain": [
       "array(['0', 'a', 'b', 'c'], dtype=object)"
      ]
     },
     "execution_count": 19,
     "metadata": {},
     "output_type": "execute_result"
    }
   ],
   "source": [
    "train_df['StateHoliday'].unique()"
   ]
  },
  {
   "cell_type": "code",
   "execution_count": 20,
   "metadata": {},
   "outputs": [
    {
     "name": "stderr",
     "output_type": "stream",
     "text": [
      "2021-02-25 12:11:09,434 | INFO : Add Day, Month, Year features\n",
      "2021-02-25 12:11:09,448 | INFO : Transform date features\n",
      "2021-02-25 12:11:09,499 | INFO : Encode StateHoliday\n",
      "2021-02-25 12:11:09,500 | INFO : Encode labels in ['StateHoliday']\n",
      "2021-02-25 12:11:09,515 | INFO : Save label encoder to largefiles/sales_cat_cols_le.pkl\n"
     ]
    }
   ],
   "source": [
    "sales_df, sales_label_encoder = preprocessing_utils.transform_sales_df(sales_df, DATA_PATH + 'sales_cat_cols_le')"
   ]
  },
  {
   "cell_type": "code",
   "execution_count": 21,
   "metadata": {},
   "outputs": [],
   "source": [
    "data = sales_df.merge(store_df, on='Store', how='left')"
   ]
  },
  {
   "cell_type": "code",
   "execution_count": 22,
   "metadata": {},
   "outputs": [],
   "source": [
    "data.drop(['Year', 'CompetitionOpenSinceYear', 'Promo2SinceYear', 'Id'], axis=1, inplace=True)"
   ]
  },
  {
   "cell_type": "code",
   "execution_count": 23,
   "metadata": {},
   "outputs": [
    {
     "data": {
      "text/plain": [
       "(93091, 23)"
      ]
     },
     "execution_count": 23,
     "metadata": {},
     "output_type": "execute_result"
    }
   ],
   "source": [
    "data.shape"
   ]
  },
  {
   "cell_type": "code",
   "execution_count": 24,
   "metadata": {},
   "outputs": [
    {
     "data": {
      "text/plain": [
       "Date                                0\n",
       "Store                               0\n",
       "Sales                            3696\n",
       "Customers                        3696\n",
       "Open                                0\n",
       "Promo                               0\n",
       "StateHoliday                        0\n",
       "SchoolHoliday                       0\n",
       "DayOfWeek_sin                       0\n",
       "DayOfWeek_cos                       0\n",
       "Month_sin                           0\n",
       "Month_cos                           0\n",
       "Day_sin                             0\n",
       "Day_cos                             0\n",
       "StoreType                           0\n",
       "Assortment                          0\n",
       "CompetitionDistance                 0\n",
       "Promo2                              0\n",
       "PromoInterval                       0\n",
       "CompetitionOpenSinceMonth_sin       0\n",
       "CompetitionOpenSinceMonth_cos       0\n",
       "Promo2SinceWeek_sin                 0\n",
       "Promo2SinceWeek_cos                 0\n",
       "dtype: int64"
      ]
     },
     "execution_count": 24,
     "metadata": {},
     "output_type": "execute_result"
    }
   ],
   "source": [
    "data.isna().sum()"
   ]
  },
  {
   "cell_type": "code",
   "execution_count": 25,
   "metadata": {},
   "outputs": [],
   "source": [
    "data.to_pickle(DATA_PATH + 'unscaled_sales_data.pickle')"
   ]
  },
  {
   "cell_type": "markdown",
   "metadata": {},
   "source": [
    "## Prepare data for model training"
   ]
  },
  {
   "cell_type": "markdown",
   "metadata": {},
   "source": [
    "Validation strategy: Side-by-side split\\\n",
    "Dataset splits into independent parts, one part used strictly for training and another part used strictly for validation.\n",
    "\n",
    "Data range 2013 to 2015-07-31. \\\n",
    "Validation Model is trained on 2013 to 2015 data and predict 47 days of 2015 data.\n",
    "The best performing model will be trained on 2013 to 2015-07-31 data to predict 47 days from 2015-08-01 without validation. \\\n",
    "\n",
    "In the validation model sequences of the last 47 days of 2014 shouldn't be included because it contains 2015 values in y."
   ]
  },
  {
   "cell_type": "code",
   "execution_count": 26,
   "metadata": {},
   "outputs": [
    {
     "data": {
      "text/plain": [
       "Timestamp('2013-01-02 00:00:00')"
      ]
     },
     "execution_count": 26,
     "metadata": {},
     "output_type": "execute_result"
    }
   ],
   "source": [
    "data['Date'].min()"
   ]
  },
  {
   "cell_type": "code",
   "execution_count": 27,
   "metadata": {},
   "outputs": [
    {
     "data": {
      "text/plain": [
       "Timestamp('2015-09-17 00:00:00')"
      ]
     },
     "execution_count": 27,
     "metadata": {},
     "output_type": "execute_result"
    }
   ],
   "source": [
    "data['Date'].max()"
   ]
  },
  {
   "cell_type": "code",
   "execution_count": 28,
   "metadata": {},
   "outputs": [],
   "source": [
    "full_range = pd.date_range(data['Date'].min(), data['Date'].max())"
   ]
  },
  {
   "cell_type": "code",
   "execution_count": 29,
   "metadata": {},
   "outputs": [
    {
     "data": {
      "text/plain": [
       "DatetimeIndex(['2013-01-02', '2013-01-03', '2013-01-04', '2013-01-05',\n",
       "               '2013-01-06', '2013-01-07', '2013-01-08', '2013-01-09',\n",
       "               '2013-01-10', '2013-01-11',\n",
       "               ...\n",
       "               '2014-11-05', '2014-11-06', '2014-11-07', '2014-11-08',\n",
       "               '2014-11-09', '2014-11-10', '2014-11-11', '2014-11-12',\n",
       "               '2014-11-13', '2014-11-14'],\n",
       "              dtype='datetime64[ns]', length=682, freq='D')"
      ]
     },
     "execution_count": 29,
     "metadata": {},
     "output_type": "execute_result"
    }
   ],
   "source": [
    "full_range[full_range<'2014-11-15']"
   ]
  },
  {
   "cell_type": "markdown",
   "metadata": {},
   "source": [
    "### Normalize Data"
   ]
  },
  {
   "cell_type": "code",
   "execution_count": 30,
   "metadata": {},
   "outputs": [],
   "source": [
    "cols_to_scale = {'td': ['Sales', 'Customers'],\n",
    "                 'ti': ['Assortment', 'CompetitionDistance']\n",
    "                }\n",
    "val_date = None\n",
    "mode = 'val'\n",
    "if mode == 'val':\n",
    "    val_date = '2014-11-15'"
   ]
  },
  {
   "cell_type": "code",
   "execution_count": 31,
   "metadata": {},
   "outputs": [
    {
     "name": "stderr",
     "output_type": "stream",
     "text": [
      "2021-02-25 12:11:25,545 | INFO : Log Transform Sales and Customers\n",
      "2021-02-25 12:11:25,551 | INFO : Select records for scaler fitting\n",
      "2021-02-25 12:11:25,558 | INFO : Start scaling time-dependant features ['Sales', 'Customers']\n",
      "100%|██████████| 95/95 [00:01<00:00, 53.06it/s] \n",
      "2021-02-25 12:11:27,354 | INFO : Start scaling time-independant features ['Assortment', 'CompetitionDistance']\n",
      "2021-02-25 12:11:27,361 | INFO : Convert data formats to reduce memory usage\n",
      "2021-02-25 12:11:27,412 | INFO : Save pickle files\n"
     ]
    },
    {
     "name": "stdout",
     "output_type": "stream",
     "text": [
      "Mem. usage decreased to  4.97 Mb (74.1% reduction)\n"
     ]
    }
   ],
   "source": [
    "scaled_data, scale_map = preprocessing_utils.scale_data(data,\n",
    "                                                        DATA_PATH + f'scalemap',\n",
    "                                                        DATA_PATH + f'scaled_data_{mode}',\n",
    "                                                        cols_to_scale,\n",
    "                                                        mode=mode,\n",
    "                                                        val_date=val_date\n",
    "                                                       )"
   ]
  },
  {
   "cell_type": "code",
   "execution_count": 32,
   "metadata": {},
   "outputs": [
    {
     "data": {
      "text/plain": [
       "dict_keys(['Sales', 'Customers', 'Assortment', 'CompetitionDistance'])"
      ]
     },
     "execution_count": 32,
     "metadata": {},
     "output_type": "execute_result"
    }
   ],
   "source": [
    "scale_map.keys()"
   ]
  },
  {
   "cell_type": "code",
   "execution_count": 33,
   "metadata": {},
   "outputs": [
    {
     "data": {
      "text/plain": [
       "defaultdict(dict,\n",
       "            {'Sales': {51: {'mean': 8.855687078068593,\n",
       "               'std': 0.2757176981179486},\n",
       "              53: {'mean': 8.467008017025629, 'std': 0.28041712849165396},\n",
       "              79: {'mean': 8.519281404399894, 'std': 0.26517374435745056},\n",
       "              105: {'mean': 8.226513721359945, 'std': 0.4995000252751703},\n",
       "              106: {'mean': 8.995801536646978, 'std': 0.2654144669293628},\n",
       "              114: {'mean': 8.54477875702521, 'std': 0.21501854484020902},\n",
       "              115: {'mean': 8.918847785040168, 'std': 0.23278921614837322},\n",
       "              122: {'mean': 8.697174420021463, 'std': 0.38351832749250087},\n",
       "              127: {'mean': 8.623490215842473, 'std': 0.40646464565069157},\n",
       "              129: {'mean': 9.18770573516978, 'std': 0.27596737834401164},\n",
       "              133: {'mean': 8.650266064904216, 'std': 0.3816387480128995},\n",
       "              136: {'mean': 8.648776651441187, 'std': 0.3890076352323252},\n",
       "              137: {'mean': 9.01468153703129, 'std': 0.2804988736341931},\n",
       "              149: {'mean': 8.661728447313413, 'std': 0.355962090948438},\n",
       "              185: {'mean': 8.808652099388814, 'std': 0.23626636175134452},\n",
       "              187: {'mean': 8.650199886083357, 'std': 0.2821417162464047},\n",
       "              197: {'mean': 8.761776669218364, 'std': 0.2434935188726111},\n",
       "              201: {'mean': 8.528304402079826, 'std': 0.23606809728667177},\n",
       "              212: {'mean': 8.403863688043701, 'std': 0.2603925179064983},\n",
       "              215: {'mean': 8.773495834798274, 'std': 0.3051471679623537},\n",
       "              229: {'mean': 8.999486180541254, 'std': 0.23481669090391627},\n",
       "              232: {'mean': 7.892513913160885, 'std': 0.9721731586381684},\n",
       "              244: {'mean': 8.498941769405311, 'std': 0.2827525236220675},\n",
       "              249: {'mean': 8.509280461415994, 'std': 0.21100572395103623},\n",
       "              251: {'mean': 9.82507977850052, 'std': 0.1711252085700732},\n",
       "              252: {'mean': 9.225714024833556, 'std': 0.2476219317088344},\n",
       "              260: {'mean': 8.78889087071639, 'std': 0.122369330829068},\n",
       "              279: {'mean': 9.142891630915987, 'std': 0.46858289598889197},\n",
       "              308: {'mean': 9.105134605340218, 'std': 0.2801851853767971},\n",
       "              327: {'mean': 8.854103766325128, 'std': 0.5278545349581993},\n",
       "              329: {'mean': 8.722616497466433, 'std': 0.32331749405100324},\n",
       "              331: {'mean': 8.66389669022027, 'std': 0.3032966949386582},\n",
       "              341: {'mean': 8.55331859120041, 'std': 0.22232944228468782},\n",
       "              345: {'mean': 8.41497765348769, 'std': 0.28157435541213516},\n",
       "              350: {'mean': 8.82032341958857, 'std': 0.2298980497417315},\n",
       "              355: {'mean': 9.037621911371126, 'std': 0.24847696995943255},\n",
       "              379: {'mean': 8.185532119612478, 'std': 0.2524404554820533},\n",
       "              397: {'mean': 8.517667909724464, 'std': 0.2719202389893319},\n",
       "              400: {'mean': 8.951754844824231, 'std': 0.31529100547410954},\n",
       "              405: {'mean': 8.304080024373633, 'std': 0.33798830019065007},\n",
       "              406: {'mean': 8.61628270571026, 'std': 0.2604364847118324},\n",
       "              430: {'mean': 9.093760598341131, 'std': 0.21324526688223328},\n",
       "              452: {'mean': 8.45362036560857, 'std': 0.3473193601464623},\n",
       "              456: {'mean': 8.678328435889519, 'std': 0.24957203368046602},\n",
       "              464: {'mean': 9.272622869329837, 'std': 0.21024406908926382},\n",
       "              503: {'mean': 8.732870591934315, 'std': 0.2783833076414409},\n",
       "              505: {'mean': 8.386771320539625, 'std': 0.2605399700937977},\n",
       "              508: {'mean': 8.716894234033397, 'std': 0.2714974156993744},\n",
       "              520: {'mean': 8.176548124381581, 'std': 0.255173668114091},\n",
       "              521: {'mean': 8.509039764487367, 'std': 0.24200546691256172},\n",
       "              522: {'mean': 9.061659548580176, 'std': 0.28614716657574535},\n",
       "              537: {'mean': 8.538207566246648, 'std': 0.224244238287862},\n",
       "              544: {'mean': 9.473520559102452, 'std': 0.3014754241917263},\n",
       "              547: {'mean': 8.663657066855722, 'std': 0.21258388876228188},\n",
       "              549: {'mean': 8.372418922955116, 'std': 0.19639875986595376},\n",
       "              558: {'mean': 8.053252051951775, 'std': 0.21313388860337196},\n",
       "              564: {'mean': 8.567502456468072, 'std': 0.1910445064593986},\n",
       "              584: {'mean': 8.39854314499291, 'std': 0.21231637027787745},\n",
       "              585: {'mean': 8.616961846530431, 'std': 0.2755115048089162},\n",
       "              591: {'mean': 8.575826669781799, 'std': 0.23964379151291668},\n",
       "              609: {'mean': 8.326219864701633, 'std': 0.30343155124246446},\n",
       "              619: {'mean': 8.317356933425478, 'std': 0.44366430873145823},\n",
       "              624: {'mean': 8.749368895178954, 'std': 0.30763251808330166},\n",
       "              629: {'mean': 9.020796171972139, 'std': 0.2391796508936769},\n",
       "              636: {'mean': 8.718914459081452, 'std': 0.5022268886502085},\n",
       "              642: {'mean': 8.165758989388243, 'std': 0.20123787832234077},\n",
       "              645: {'mean': 9.242258002167983, 'std': 0.23869785390216255},\n",
       "              654: {'mean': 8.567746222761215, 'std': 0.468790508100643},\n",
       "              666: {'mean': 8.806560710178273, 'std': 0.27616569470594265},\n",
       "              677: {'mean': 9.009290838997797, 'std': 0.23954962156683718},\n",
       "              679: {'mean': 9.143974090216402, 'std': 0.20602911985648964},\n",
       "              684: {'mean': 8.963703763841885, 'std': 0.3174690582114537},\n",
       "              694: {'mean': 8.99896849338634, 'std': 0.19415831529258118},\n",
       "              710: {'mean': 8.476036277909788, 'std': 0.3768348696051522},\n",
       "              714: {'mean': 8.330505335267764, 'std': 0.236429282290887},\n",
       "              717: {'mean': 8.523778296536467, 'std': 0.30321218281993584},\n",
       "              757: {'mean': 8.6273759554777, 'std': 0.23778568985385715},\n",
       "              774: {'mean': 8.546380733752816, 'std': 0.20915343162794522},\n",
       "              786: {'mean': 7.927104782730188, 'std': 0.6092551864414465},\n",
       "              790: {'mean': 8.895354357793705, 'std': 0.20012992245944225},\n",
       "              808: {'mean': 8.771792429044744, 'std': 0.30993017807539947},\n",
       "              815: {'mean': 9.093106049508448, 'std': 0.22662846405881354},\n",
       "              819: {'mean': 8.677202695267487, 'std': 0.19205349084254594},\n",
       "              821: {'mean': 8.756811076237037, 'std': 0.2720835653543866},\n",
       "              850: {'mean': 8.608656396320056, 'std': 0.780548563606729},\n",
       "              857: {'mean': 8.868014734053755, 'std': 0.22166477243260843},\n",
       "              893: {'mean': 8.774806367938682, 'std': 0.2256627343704225},\n",
       "              915: {'mean': 8.76457828330903, 'std': 0.24163529745149145},\n",
       "              923: {'mean': 8.54898392079324, 'std': 0.1373296629173442},\n",
       "              944: {'mean': 8.959174768221116, 'std': 0.22804670944239477},\n",
       "              973: {'mean': 8.65375028200397, 'std': 0.27178643114980616},\n",
       "              974: {'mean': 9.327290520947455, 'std': 0.2024574636581841},\n",
       "              977: {'mean': 8.503924136753191, 'std': 0.4943917746708368},\n",
       "              983: {'mean': 9.16378172703375, 'std': 0.9075784893723833},\n",
       "              988: {'mean': 8.417125049602296, 'std': 0.20910708461335026}},\n",
       "             'Customers': {51: {'mean': 6.2645629132681675,\n",
       "               'std': 0.20358109235495941},\n",
       "              53: {'mean': 6.26995284812695, 'std': 0.23832795390985592},\n",
       "              79: {'mean': 6.272800188141738, 'std': 0.19707400345104342},\n",
       "              105: {'mean': 6.100430919421926, 'std': 0.3774437882226024},\n",
       "              106: {'mean': 6.6554050199378, 'std': 0.22177766125867085},\n",
       "              114: {'mean': 6.410271446534147, 'std': 0.1484531316551273},\n",
       "              115: {'mean': 6.336813821634125, 'std': 0.18639873381369232},\n",
       "              122: {'mean': 6.629635935464037, 'std': 0.3470995119987375},\n",
       "              127: {'mean': 6.549054317048682, 'std': 0.24953347991592822},\n",
       "              129: {'mean': 7.107399718511527, 'std': 0.1769370771116312},\n",
       "              133: {'mean': 6.5429392531909505, 'std': 0.35003842629038395},\n",
       "              136: {'mean': 6.088371192225907, 'std': 0.27583414093982206},\n",
       "              137: {'mean': 6.849389426202655, 'std': 0.25067405627101397},\n",
       "              149: {'mean': 6.221821631871883, 'std': 0.2625493782888165},\n",
       "              185: {'mean': 6.269458070094065, 'std': 0.1704012944877201},\n",
       "              187: {'mean': 6.582994632382005, 'std': 0.2568347107187123},\n",
       "              197: {'mean': 6.699352206032121, 'std': 0.17502972509356768},\n",
       "              201: {'mean': 6.098333551773146, 'std': 0.19674392649875558},\n",
       "              212: {'mean': 6.091059727203584, 'std': 0.22868780957615706},\n",
       "              215: {'mean': 6.230043856207226, 'std': 0.22453121841918744},\n",
       "              229: {'mean': 6.571381028346435, 'std': 0.16913351391883077},\n",
       "              232: {'mean': 5.57077792143328, 'std': 0.6946473707073151},\n",
       "              244: {'mean': 6.282730811969289, 'std': 0.18869177042812937},\n",
       "              249: {'mean': 6.256896360664711, 'std': 0.15752271507012555},\n",
       "              251: {'mean': 7.788682901114141, 'std': 0.1330217009881356},\n",
       "              252: {'mean': 6.6908221606674525, 'std': 0.1809091716613247},\n",
       "              260: {'mean': 6.82286768800053, 'std': 0.09278035811452931},\n",
       "              279: {'mean': 6.568575388276519, 'std': 0.3492604903710804},\n",
       "              308: {'mean': 6.8361707258744, 'std': 0.1934490182708325},\n",
       "              327: {'mean': 6.784352442838004, 'std': 0.4028433328707293},\n",
       "              329: {'mean': 6.348484168795978, 'std': 0.2674827721002009},\n",
       "              331: {'mean': 6.675466746041276, 'std': 0.2595809957898223},\n",
       "              341: {'mean': 6.585352114822363, 'std': 0.163235115073283},\n",
       "              345: {'mean': 6.193019738044665, 'std': 0.22227875097191555},\n",
       "              350: {'mean': 6.268690397012328, 'std': 0.17285471538997704},\n",
       "              355: {'mean': 6.94741633828503, 'std': 0.20697229814258192},\n",
       "              379: {'mean': 6.096456793632439, 'std': 0.191905679596694},\n",
       "              397: {'mean': 6.568473365414503, 'std': 0.19182831610538353},\n",
       "              400: {'mean': 7.019473854970014, 'std': 0.22789266204310704},\n",
       "              405: {'mean': 6.130923958798342, 'std': 0.23970209231707246},\n",
       "              406: {'mean': 6.100832500041974, 'std': 0.20676231505828963},\n",
       "              430: {'mean': 6.586249532391279, 'std': 0.16209738032285245},\n",
       "              452: {'mean': 6.109805972830005, 'std': 0.2913399979619931},\n",
       "              456: {'mean': 6.765244900357263, 'std': 0.1877370714049099},\n",
       "              464: {'mean': 7.19190641000659, 'std': 0.19623933920213646},\n",
       "              503: {'mean': 6.123725251570321, 'std': 0.2113257916907109},\n",
       "              505: {'mean': 6.335452048361268, 'std': 0.1988578325838995},\n",
       "              508: {'mean': 6.431444037850214, 'std': 0.2053497690029229},\n",
       "              520: {'mean': 5.970282190084324, 'std': 0.20635696411645504},\n",
       "              521: {'mean': 6.044339046562141, 'std': 0.18809763095336224},\n",
       "              522: {'mean': 6.498144720354981, 'std': 0.1971880136379108},\n",
       "              537: {'mean': 6.340639076002988, 'std': 0.171560519175141},\n",
       "              544: {'mean': 7.484642440206149, 'std': 0.23589015897483084},\n",
       "              547: {'mean': 6.119603240466696, 'std': 0.16192888492529417},\n",
       "              549: {'mean': 6.244049180850177, 'std': 0.1922141546655771},\n",
       "              558: {'mean': 6.118373530423889, 'std': 0.15313860396468268},\n",
       "              564: {'mean': 6.166948185413052, 'std': 0.15505179858350565},\n",
       "              584: {'mean': 6.046313258898832, 'std': 0.14885960478179783},\n",
       "              585: {'mean': 6.757767924188506, 'std': 0.20485631028883605},\n",
       "              591: {'mean': 6.154987381385213, 'std': 0.2229777960996303},\n",
       "              609: {'mean': 6.120774509949157, 'std': 0.2991072175501178},\n",
       "              619: {'mean': 6.012376537197447, 'std': 0.35606415331022007},\n",
       "              624: {'mean': 6.451978481980634, 'std': 0.26133027301819123},\n",
       "              629: {'mean': 6.604391940298324, 'std': 0.17656399566530911},\n",
       "              636: {'mean': 6.623508459469495, 'std': 0.3262055595579806},\n",
       "              642: {'mean': 6.156032391939887, 'std': 0.14329659013162602},\n",
       "              645: {'mean': 7.189743086415361, 'std': 0.1766615596544539},\n",
       "              654: {'mean': 6.362381018104371, 'std': 0.4337111859659147},\n",
       "              666: {'mean': 6.4654170990288256, 'std': 0.21173003141505628},\n",
       "              677: {'mean': 6.5058455585113535, 'std': 0.18169125329890104},\n",
       "              679: {'mean': 6.924286243736543, 'std': 0.17135275959191063},\n",
       "              684: {'mean': 6.458485584711289, 'std': 0.24618510394350307},\n",
       "              694: {'mean': 6.66510111074924, 'std': 0.14191358357553235},\n",
       "              710: {'mean': 5.97770853336217, 'std': 0.26916888213295226},\n",
       "              714: {'mean': 5.74926981552015, 'std': 0.18662740523537816},\n",
       "              717: {'mean': 6.273020933524022, 'std': 0.21288586238693472},\n",
       "              757: {'mean': 6.207142581841459, 'std': 0.18491434661372227},\n",
       "              774: {'mean': 6.523608782746001, 'std': 0.1791159031114599},\n",
       "              786: {'mean': 6.1045374948293505, 'std': 0.5678344828499295},\n",
       "              790: {'mean': 6.528788353260345, 'std': 0.15486746219843853},\n",
       "              808: {'mean': 6.303979442567605, 'std': 0.2784213112994835},\n",
       "              815: {'mean': 6.752222994657371, 'std': 0.1895848003236297},\n",
       "              819: {'mean': 6.271695644828302, 'std': 0.1607519382742864},\n",
       "              821: {'mean': 6.694471014181968, 'std': 0.20898138439370356},\n",
       "              850: {'mean': 6.426837987678234, 'std': 0.5782788641382719},\n",
       "              857: {'mean': 6.8150094196838715, 'std': 0.18195255310220343},\n",
       "              893: {'mean': 6.742764238603193, 'std': 0.17873047941827755},\n",
       "              915: {'mean': 6.265359162987323, 'std': 0.1980913973213371},\n",
       "              923: {'mean': 6.4316779548472285, 'std': 0.1294342273570965},\n",
       "              944: {'mean': 7.119004513839513, 'std': 0.17239718636708748},\n",
       "              973: {'mean': 6.590981352361906, 'std': 0.20978249082757847},\n",
       "              974: {'mean': 7.336034140975967, 'std': 0.1674034861328393},\n",
       "              977: {'mean': 6.274674525938288, 'std': 0.3367307624203315},\n",
       "              983: {'mean': 7.210411914734281, 'std': 0.7150606607039274},\n",
       "              988: {'mean': 6.556912749096369, 'std': 0.18596255928884423}},\n",
       "             'Assortment': {'mean': 0.47368421052631576,\n",
       "              'std': 0.4993108522906621},\n",
       "             'CompetitionDistance': {'mean': 7.428457550692095,\n",
       "              'std': 1.6438684175167193}})"
      ]
     },
     "execution_count": 33,
     "metadata": {},
     "output_type": "execute_result"
    }
   ],
   "source": [
    "scale_map"
   ]
  },
  {
   "cell_type": "code",
   "execution_count": 34,
   "metadata": {},
   "outputs": [
    {
     "data": {
      "text/plain": [
       "95"
      ]
     },
     "execution_count": 34,
     "metadata": {},
     "output_type": "execute_result"
    }
   ],
   "source": [
    "len(scale_map['Sales'])"
   ]
  },
  {
   "cell_type": "code",
   "execution_count": 35,
   "metadata": {},
   "outputs": [
    {
     "data": {
      "text/plain": [
       "2"
      ]
     },
     "execution_count": 35,
     "metadata": {},
     "output_type": "execute_result"
    }
   ],
   "source": [
    "len(scale_map['Assortment'])"
   ]
  },
  {
   "cell_type": "markdown",
   "metadata": {},
   "source": [
    "### Build data sequences"
   ]
  },
  {
   "cell_type": "code",
   "execution_count": 36,
   "metadata": {},
   "outputs": [
    {
     "data": {
      "text/plain": [
       "Index(['Date', 'Store', 'Sales', 'Customers', 'Open', 'Promo', 'StateHoliday',\n",
       "       'SchoolHoliday', 'DayOfWeek_sin', 'DayOfWeek_cos', 'Month_sin',\n",
       "       'Month_cos', 'Day_sin', 'Day_cos', 'StoreType', 'Assortment',\n",
       "       'CompetitionDistance', 'Promo2', 'PromoInterval',\n",
       "       'CompetitionOpenSinceMonth_sin', 'CompetitionOpenSinceMonth_cos',\n",
       "       'Promo2SinceWeek_sin', 'Promo2SinceWeek_cos', 'Sales_mean',\n",
       "       'Customers_mean', 'Assortment_mean', 'CompetitionDistance_mean'],\n",
       "      dtype='object')"
      ]
     },
     "execution_count": 36,
     "metadata": {},
     "output_type": "execute_result"
    }
   ],
   "source": [
    "scaled_data.columns"
   ]
  },
  {
   "cell_type": "code",
   "execution_count": 38,
   "metadata": {},
   "outputs": [],
   "source": [
    "n_steps_in = 120\n",
    "input_data_filename = DATA_PATH + f'scaled_data_{mode}'\n",
    "output_data_filename = DATA_PATH + f'sequence_data_{mode}'"
   ]
  },
  {
   "cell_type": "code",
   "execution_count": 39,
   "metadata": {},
   "outputs": [
    {
     "data": {
      "text/plain": [
       "'largefiles/scaled_data_val'"
      ]
     },
     "execution_count": 39,
     "metadata": {},
     "output_type": "execute_result"
    }
   ],
   "source": [
    "input_data_filename"
   ]
  },
  {
   "cell_type": "code",
   "execution_count": 40,
   "metadata": {},
   "outputs": [
    {
     "data": {
      "text/plain": [
       "'largefiles/sequence_data_val'"
      ]
     },
     "execution_count": 40,
     "metadata": {},
     "output_type": "execute_result"
    }
   ],
   "source": [
    "output_data_filename"
   ]
  },
  {
   "cell_type": "code",
   "execution_count": 51,
   "metadata": {},
   "outputs": [
    {
     "name": "stdout",
     "output_type": "stream",
     "text": [
      "0it [00:00, ?it/s]2021-02-25 12:14:32,235 | INFO : largefiles/scaled_data_val\n",
      "2021-02-25 12:14:32,235 | INFO : Time-dependant features: ['Sales', 'Customers', 'Open', 'Promo', 'StateHoliday', 'SchoolHoliday', 'DayOfWeek_sin', 'DayOfWeek_cos', 'Month_sin', 'Month_cos', 'Day_sin', 'Day_cos']\n",
      "2021-02-25 12:14:32,235 | INFO : Time-independent features: ['Date', 'StoreType', 'Assortment', 'CompetitionDistance', 'Promo2', 'PromoInterval', 'CompetitionOpenSinceMonth_sin', 'CompetitionOpenSinceMonth_cos', 'Promo2SinceWeek_sin', 'Promo2SinceWeek_cos']\n",
      "2021-02-25 12:14:32,235 | INFO : Target Feature: Sales\n",
      "2021-02-25 12:14:32,235 | INFO : Load pickle file: largefiles/scaled_data_val\n",
      "2021-02-25 12:14:32,243 | INFO : Start building sequences\n",
      "\n",
      "  0%|                                                     | 0/6 [00:00<?, ?it/s]\u001b[A\n",
      "  0%|                                                    | 0/15 [00:00<?, ?it/s]\u001b[A\n",
      "  0%|                                                    | 0/16 [00:00<?, ?it/s]\u001b[A\n",
      "  0%|                                                    | 0/16 [00:00<?, ?it/s]\u001b[A\n",
      "  0%|                                                    | 0/16 [00:00<?, ?it/s]\u001b[A\n",
      "  0%|                                                    | 0/16 [00:00<?, ?it/s]\u001b[A\n",
      "  0%|                                                    | 0/16 [00:00<?, ?it/s]\u001b[A\n",
      " 12%|█████▌                                      | 2/16 [00:07<00:55,  3.96s/it]\u001b[A\n",
      " 13%|█████▊                                      | 2/15 [00:07<00:51,  3.99s/it]\u001b[A\n",
      " 12%|█████▌                                      | 2/16 [00:07<00:55,  3.98s/it]\u001b[A\n",
      " 12%|█████▌                                      | 2/16 [00:08<00:56,  4.03s/it]\u001b[A\n",
      " 12%|█████▌                                      | 2/16 [00:07<00:55,  3.99s/it]\u001b[A\n",
      " 12%|█████▌                                      | 2/16 [00:08<00:56,  4.06s/it]\u001b[A\n",
      " 19%|████████▎                                   | 3/16 [00:15<01:11,  5.51s/it]\u001b[A\n",
      " 19%|████████▎                                   | 3/16 [00:16<01:14,  5.72s/it]\u001b[A\n",
      " 19%|████████▎                                   | 3/16 [00:16<01:14,  5.73s/it]\u001b[A\n",
      " 20%|████████▊                                   | 3/15 [00:16<01:09,  5.75s/it]\u001b[A\n",
      " 19%|████████▎                                   | 3/16 [00:16<01:15,  5.79s/it]\u001b[A\n",
      " 19%|████████▎                                   | 3/16 [00:16<01:15,  5.82s/it]\u001b[A\n",
      " 25%|███████████                                 | 4/16 [00:24<01:20,  6.71s/it]\u001b[A\n",
      " 25%|███████████                                 | 4/16 [00:24<01:21,  6.80s/it]\u001b[A\n",
      " 25%|███████████                                 | 4/16 [00:24<01:22,  6.84s/it]\u001b[A\n",
      " 27%|███████████▋                                | 4/15 [00:24<01:15,  6.86s/it]\u001b[A\n",
      " 25%|███████████                                 | 4/16 [00:24<01:22,  6.86s/it]\u001b[A\n",
      " 25%|███████████                                 | 4/16 [00:25<01:22,  6.89s/it]\u001b[A\n",
      " 31%|█████████████▊                              | 5/16 [00:33<01:24,  7.68s/it]\u001b[A\n",
      " 31%|█████████████▊                              | 5/16 [00:34<01:24,  7.71s/it]\u001b[A\n",
      " 31%|█████████████▊                              | 5/16 [00:34<01:25,  7.76s/it]\u001b[A\n",
      " 33%|██████████████▋                             | 5/15 [00:34<01:17,  7.79s/it]\u001b[A\n",
      " 31%|█████████████▊                              | 5/16 [00:34<01:25,  7.80s/it]\u001b[A\n",
      " 31%|█████████████▊                              | 5/16 [00:34<01:25,  7.78s/it]\u001b[A\n",
      " 38%|████████████████▌                           | 6/16 [00:42<01:18,  7.85s/it]\u001b[A\n",
      " 40%|█████████████████▌                          | 6/15 [00:42<01:11,  7.92s/it]\u001b[A\n",
      " 38%|████████████████▌                           | 6/16 [00:42<01:19,  7.91s/it]\u001b[A\n",
      " 38%|████████████████▌                           | 6/16 [00:42<01:20,  8.06s/it]\u001b[A\n",
      " 38%|████████████████▌                           | 6/16 [00:43<01:21,  8.10s/it]\u001b[A\n",
      " 38%|████████████████▌                           | 6/16 [00:43<01:21,  8.10s/it]\u001b[A\n",
      " 47%|████████████████████▌                       | 7/15 [00:50<01:03,  7.88s/it]\u001b[A\n",
      " 44%|███████████████████▎                        | 7/16 [00:50<01:12,  8.04s/it]\u001b[A\n",
      " 44%|███████████████████▎                        | 7/16 [00:50<01:12,  8.02s/it]\u001b[A\n",
      " 44%|███████████████████▎                        | 7/16 [00:51<01:12,  8.06s/it]\u001b[A\n",
      " 44%|███████████████████▎                        | 7/16 [00:51<01:13,  8.16s/it]\u001b[A\n",
      " 44%|███████████████████▎                        | 7/16 [00:51<01:13,  8.17s/it]\u001b[A\n",
      " 53%|███████████████████████▍                    | 8/15 [00:59<00:58,  8.33s/it]\u001b[A\n",
      " 50%|██████████████████████                      | 8/16 [00:59<01:07,  8.39s/it]\u001b[A\n",
      " 50%|██████████████████████                      | 8/16 [01:00<01:07,  8.40s/it]\u001b[A\n",
      " 50%|██████████████████████                      | 8/16 [01:00<01:06,  8.35s/it]\u001b[A\n",
      " 50%|██████████████████████                      | 8/16 [01:00<01:07,  8.47s/it]\u001b[A\n",
      " 50%|██████████████████████                      | 8/16 [01:00<01:08,  8.61s/it]\u001b[A\n",
      " 56%|████████████████████████▊                   | 9/16 [01:10<01:04,  9.16s/it]\u001b[A\n",
      " 60%|██████████████████████████▍                 | 9/15 [01:10<00:54,  9.14s/it]\u001b[A\n",
      " 56%|████████████████████████▊                   | 9/16 [01:10<01:02,  8.98s/it]\u001b[A\n",
      " 56%|████████████████████████▊                   | 9/16 [01:10<01:03,  9.06s/it]\u001b[A\n",
      " 56%|████████████████████████▊                   | 9/16 [01:11<01:04,  9.17s/it]\u001b[A\n",
      " 56%|████████████████████████▊                   | 9/16 [01:11<01:04,  9.17s/it]\u001b[A\n",
      " 62%|██████████████████████████▉                | 10/16 [01:19<00:54,  9.08s/it]\u001b[A\n",
      " 62%|██████████████████████████▉                | 10/16 [01:19<00:53,  8.97s/it]\u001b[A\n",
      " 67%|████████████████████████████▋              | 10/15 [01:19<00:45,  9.11s/it]\u001b[A\n",
      " 62%|██████████████████████████▉                | 10/16 [01:19<00:54,  9.03s/it]\u001b[A\n",
      " 62%|██████████████████████████▉                | 10/16 [01:20<00:54,  9.11s/it]\u001b[A\n",
      " 62%|██████████████████████████▉                | 10/16 [01:20<00:54,  9.09s/it]\u001b[A\n",
      " 69%|█████████████████████████████▌             | 11/16 [01:27<00:43,  8.77s/it]\u001b[A\n",
      " 69%|█████████████████████████████▌             | 11/16 [01:28<00:44,  8.83s/it]\u001b[A\n",
      " 73%|███████████████████████████████▌           | 11/15 [01:28<00:35,  8.94s/it]\u001b[A\n",
      " 69%|█████████████████████████████▌             | 11/16 [01:28<00:44,  8.86s/it]\u001b[A\n",
      " 69%|█████████████████████████████▌             | 11/16 [01:28<00:44,  8.92s/it]\u001b[A\n",
      " 69%|█████████████████████████████▌             | 11/16 [01:28<00:44,  8.91s/it]\u001b[A\n",
      " 75%|████████████████████████████████▎          | 12/16 [01:35<00:34,  8.54s/it]\u001b[A\n",
      " 80%|██████████████████████████████████▍        | 12/15 [01:35<00:25,  8.56s/it]\u001b[A\n",
      " 75%|████████████████████████████████▎          | 12/16 [01:36<00:34,  8.60s/it]\u001b[A\n",
      " 75%|████████████████████████████████▎          | 12/16 [01:36<00:34,  8.63s/it]\u001b[A\n",
      " 75%|████████████████████████████████▎          | 12/16 [01:36<00:34,  8.66s/it]\u001b[A\n",
      " 75%|████████████████████████████████▎          | 12/16 [01:36<00:34,  8.66s/it]\u001b[A\n",
      " 81%|██████████████████████████████████▉        | 13/16 [01:45<00:27,  9.12s/it]\u001b[A\n",
      " 87%|█████████████████████████████████████▎     | 13/15 [01:46<00:18,  9.15s/it]\u001b[A\n",
      " 81%|██████████████████████████████████▉        | 13/16 [01:46<00:27,  9.16s/it]\u001b[A\n",
      " 81%|██████████████████████████████████▉        | 13/16 [01:46<00:27,  9.07s/it]\u001b[A\n",
      " 81%|██████████████████████████████████▉        | 13/16 [01:47<00:27,  9.21s/it]\u001b[A\n",
      " 81%|██████████████████████████████████▉        | 13/16 [01:47<00:27,  9.21s/it]\u001b[A\n",
      " 88%|█████████████████████████████████████▋     | 14/16 [01:54<00:17,  8.89s/it]\u001b[A\n",
      " 93%|████████████████████████████████████████▏  | 14/15 [01:54<00:08,  8.91s/it]\u001b[A\n",
      " 88%|█████████████████████████████████████▋     | 14/16 [01:54<00:17,  8.93s/it]\u001b[A\n",
      " 88%|█████████████████████████████████████▋     | 14/16 [01:55<00:17,  8.86s/it]\u001b[A\n",
      " 88%|█████████████████████████████████████▋     | 14/16 [01:55<00:17,  8.92s/it]\u001b[A\n",
      " 88%|█████████████████████████████████████▋     | 14/16 [01:55<00:17,  8.98s/it]\u001b[A\n",
      " 94%|████████████████████████████████████████▎  | 15/16 [02:02<00:08,  8.76s/it]\u001b[A\n",
      "100%|███████████████████████████████████████████| 15/15 [02:03<00:00,  8.74s/it]\u001b[A\n",
      " 94%|████████████████████████████████████████▎  | 15/16 [02:03<00:08,  8.62s/it]\u001b[A\n"
     ]
    },
    {
     "name": "stdout",
     "output_type": "stream",
     "text": [
      " 94%|████████████████████████████████████████▎  | 15/16 [02:03<00:08,  8.65s/it]\u001b[A\n",
      " 94%|████████████████████████████████████████▎  | 15/16 [02:03<00:08,  8.78s/it]\u001b[A\n",
      "100%|███████████████████████████████████████████| 15/15 [02:10<00:00,  8.73s/it]\u001b[A\n",
      "\n",
      "100%|███████████████████████████████████████████| 16/16 [02:11<00:00,  8.35s/it]\u001b[A\n",
      "100%|███████████████████████████████████████████| 16/16 [02:10<00:00,  8.58s/it]\u001b[A\n",
      "0it [02:11, ?it/s]██████████████████████████████| 16/16 [02:11<00:00,  8.41s/it]\u001b[A\n",
      "\n",
      "100%|███████████████████████████████████████████| 16/16 [02:11<00:00,  8.51s/it]\u001b[A\n",
      "0it [02:12, ?it/s]██████████████████████████████| 16/16 [02:11<00:00,  8.60s/it]\u001b[A\n",
      "\n",
      "100%|███████████████████████████████████████████| 16/16 [02:17<00:00,  8.61s/it]\u001b[A\n",
      "100%|███████████████████████████████████████████| 16/16 [02:17<00:00,  8.62s/it]\n",
      "100%|███████████████████████████████████████████| 16/16 [02:17<00:00,  8.62s/it]\n",
      "100%|███████████████████████████████████████████| 16/16 [02:18<00:00,  8.63s/it]\n",
      "100%|███████████████████████████████████████████| 16/16 [02:18<00:00,  8.64s/it]\n",
      "0it [02:18, ?it/s]\n",
      "0it [02:18, ?it/s]\n",
      "0it [02:18, ?it/s]\n",
      "0it [02:18, ?it/s]\n",
      "0it [02:18, ?it/s]\n",
      "\n",
      " 33%|███████████████                              | 2/6 [02:19<03:55, 58.80s/it]\u001b[A\n",
      "100%|█████████████████████████████████████████████| 6/6 [02:19<00:00, 23.31s/it]\u001b[A\n",
      "(77321, 13)\n",
      "2021-02-25 12:16:52,701 | INFO : Save data to largefiles/sequence_data_val\n"
     ]
    }
   ],
   "source": [
    "! python build_sequence.py 'largefiles/scaled_data_val' 'largefiles/sequence_data_val' 120"
   ]
  },
  {
   "cell_type": "code",
   "execution_count": 52,
   "metadata": {},
   "outputs": [],
   "source": [
    "seq_data = general_utils.open_pickle_file(output_data_filename)"
   ]
  },
  {
   "cell_type": "markdown",
   "metadata": {},
   "source": [
    "### Prepare pytorch dataloader"
   ]
  },
  {
   "cell_type": "code",
   "execution_count": 53,
   "metadata": {},
   "outputs": [],
   "source": [
    "from utils.preprocessing_utils import StoreDataset"
   ]
  },
  {
   "cell_type": "code",
   "execution_count": 54,
   "metadata": {},
   "outputs": [],
   "source": [
    "from torch.utils.data import Dataset, DataLoader"
   ]
  },
  {
   "cell_type": "code",
   "execution_count": 55,
   "metadata": {},
   "outputs": [
    {
     "data": {
      "text/plain": [
       "'2014-11-15'"
      ]
     },
     "execution_count": 55,
     "metadata": {},
     "output_type": "execute_result"
    }
   ],
   "source": [
    "val_date"
   ]
  },
  {
   "cell_type": "code",
   "execution_count": 56,
   "metadata": {},
   "outputs": [
    {
     "data": {
      "text/plain": [
       "Timedelta('90 days 00:00:00')"
      ]
     },
     "execution_count": 56,
     "metadata": {},
     "output_type": "execute_result"
    }
   ],
   "source": [
    "pd.to_datetime('2013-04-01') - pd.to_datetime('2013-01-01')"
   ]
  },
  {
   "cell_type": "code",
   "execution_count": 57,
   "metadata": {},
   "outputs": [],
   "source": [
    "test_sequence_data = seq_data[seq_data['Date'] == '2015-08-01']"
   ]
  },
  {
   "cell_type": "code",
   "execution_count": 58,
   "metadata": {},
   "outputs": [],
   "source": [
    "if mode == 'val':\n",
    "    train_sequence_data = seq_data[(seq_data['Date'] >= '2013-04-01') & (seq_data['Date'] <= val_date)]\n",
    "    valid_sequence_data = seq_data[(seq_data['Date'] > val_date) & (seq_data['Date'] <= '2015-01-01')]\n",
    "else:    \n",
    "    train_sequence_data = seq_data[(seq_data['Date'] >= '2013-04-01') & (seq_data['Date'] <= '2015-07-31') ]\n",
    "    valid_sequence_data = pd.DataFrame()"
   ]
  },
  {
   "cell_type": "code",
   "execution_count": 59,
   "metadata": {},
   "outputs": [
    {
     "name": "stdout",
     "output_type": "stream",
     "text": [
      "(53485, 13) (4465, 13) (77, 13)\n"
     ]
    }
   ],
   "source": [
    "print(train_sequence_data.shape, valid_sequence_data.shape, test_sequence_data.shape)"
   ]
  },
  {
   "cell_type": "code",
   "execution_count": 61,
   "metadata": {},
   "outputs": [],
   "source": [
    "cat_columns = ['StoreType', 'Promo2', 'PromoInterval']\n",
    "num_columns = ['CompetitionDistance', 'CompetitionOpenSinceMonth_sin', 'CompetitionOpenSinceMonth_cos',\n",
    "               'Promo2SinceWeek_sin', 'Promo2SinceWeek_cos', \n",
    "#                'Sales_mean',\n",
    "#                'Customers_mean', 'Assortment_mean', 'CompetitionDistance_mean'\n",
    "              ]"
   ]
  },
  {
   "cell_type": "code",
   "execution_count": 62,
   "metadata": {},
   "outputs": [
    {
     "name": "stderr",
     "output_type": "stream",
     "text": [
      "2021-02-25 12:17:20,666 | INFO : Create Dataset object\n",
      "2021-02-25 12:17:20,669 | INFO : Create Dataset object\n",
      "2021-02-25 12:17:20,670 | INFO : Create Dataset object\n"
     ]
    }
   ],
   "source": [
    "train_dataset = StoreDataset(cat_columns=cat_columns, num_columns=num_columns, embed_vector_size=50, ohe_cat_columns=True )\n",
    "valid_dataset = StoreDataset(cat_columns=cat_columns, num_columns=num_columns, embed_vector_size=50, ohe_cat_columns=True )\n",
    "test_dataset = StoreDataset(cat_columns=cat_columns, num_columns=num_columns, embed_vector_size=50, ohe_cat_columns=True)"
   ]
  },
  {
   "cell_type": "code",
   "execution_count": 63,
   "metadata": {},
   "outputs": [
    {
     "name": "stderr",
     "output_type": "stream",
     "text": [
      "2021-02-25 12:17:32,129 | INFO : Load data\n",
      "2021-02-25 12:17:32,130 | INFO : Load data\n",
      "2021-02-25 12:17:32,131 | INFO : Load data\n"
     ]
    }
   ],
   "source": [
    "train_dataset.load_sequence_data(train_sequence_data)\n",
    "valid_dataset.load_sequence_data(valid_sequence_data)\n",
    "test_dataset.load_sequence_data(test_sequence_data)"
   ]
  },
  {
   "cell_type": "code",
   "execution_count": 64,
   "metadata": {},
   "outputs": [],
   "source": [
    "train_dataset.process_cat_columns()"
   ]
  },
  {
   "cell_type": "code",
   "execution_count": 65,
   "metadata": {},
   "outputs": [],
   "source": [
    "valid_dataset.process_cat_columns()"
   ]
  },
  {
   "cell_type": "code",
   "execution_count": 66,
   "metadata": {},
   "outputs": [],
   "source": [
    "test_dataset.process_cat_columns()"
   ]
  },
  {
   "cell_type": "code",
   "execution_count": 67,
   "metadata": {},
   "outputs": [],
   "source": [
    "len_cat = {'le': len(num_columns), 'ohe' : sum([x for x in zip(*train_dataset.cat_embed_shape)][0])}"
   ]
  },
  {
   "cell_type": "code",
   "execution_count": 68,
   "metadata": {},
   "outputs": [
    {
     "data": {
      "text/plain": [
       "26"
      ]
     },
     "execution_count": 68,
     "metadata": {},
     "output_type": "execute_result"
    }
   ],
   "source": [
    "12 + len(num_columns) + len_cat['ohe']"
   ]
  },
  {
   "cell_type": "code",
   "execution_count": 69,
   "metadata": {},
   "outputs": [
    {
     "name": "stdout",
     "output_type": "stream",
     "text": [
      "209 18\n"
     ]
    }
   ],
   "source": [
    "batch_size = 256\n",
    "\n",
    "train_dataloader = DataLoader(train_dataset, batch_size=batch_size, shuffle=True, drop_last=False)\n",
    "valid_dataloader = DataLoader(valid_dataset, batch_size=batch_size, shuffle=False, drop_last=False)\n",
    "test_dataloader = DataLoader(test_dataset, batch_size=batch_size, shuffle=False, drop_last=False)\n",
    "print(len(train_dataloader), len(valid_dataloader))"
   ]
  },
  {
   "cell_type": "code",
   "execution_count": 70,
   "metadata": {},
   "outputs": [
    {
     "name": "stdout",
     "output_type": "stream",
     "text": [
      "256\n",
      "torch.Size([120, 26])\n"
     ]
    }
   ],
   "source": [
    "X, y = next(iter(train_dataloader))\n",
    "print(len(X))\n",
    "print(X[0].shape)"
   ]
  },
  {
   "cell_type": "code",
   "execution_count": 71,
   "metadata": {},
   "outputs": [
    {
     "data": {
      "text/plain": [
       "torch.Size([256, 47])"
      ]
     },
     "execution_count": 71,
     "metadata": {},
     "output_type": "execute_result"
    }
   ],
   "source": [
    "y.shape"
   ]
  },
  {
   "cell_type": "markdown",
   "metadata": {},
   "source": [
    "### Create model"
   ]
  },
  {
   "cell_type": "code",
   "execution_count": 73,
   "metadata": {},
   "outputs": [
    {
     "name": "stderr",
     "output_type": "stream",
     "text": [
      "0it [00:00, ?it/s]\n"
     ]
    }
   ],
   "source": [
    "import torch.nn as nn\n",
    "import torch.optim as optim\n",
    "\n",
    "from utils.model_utils import RNNEncoder, DecoderCell, EncoderDecoderWrapper, TorchTrainer\n",
    "device = 'cpu'\n",
    "\n",
    "encoder = RNNEncoder(\n",
    "    input_feature_len=train_dataset[0][0].shape[1], \n",
    "    rnn_num_layers=32, \n",
    "    hidden_size=128,  \n",
    "    sequence_len=train_dataset[0][0].shape[0],\n",
    "    bidirectional=False,\n",
    "    device=device,\n",
    "    rnn_dropout=0.1\n",
    ")\n",
    "\n",
    "decoder_cell = DecoderCell(\n",
    "    input_feature_len=1,\n",
    "    hidden_size=128,\n",
    ")\n",
    "\n",
    "\n",
    "#loss_function = differentiable_smape_loss\n",
    "#loss_function = differentiable_smape_loss\n",
    "loss_function = nn.MSELoss()\n",
    "#loss_function = nn.SmoothL1Loss()\n",
    "# encoder_optimizer = COCOBBackprop(encoder.parameters(), weight_decay=0)\n",
    "# decoder_optimizer = COCOBBackprop(decoder_cell.parameters(), weight_decay=0)\n",
    "# encoder_optimizer = torch.optim.AdamW(encoder.parameters(), lr=2e-3, weight_decay=1e-)\n",
    "# decoder_optimizer = torch.optim.AdamW(decoder_cell.parameters(), lr=2e-3, weight_decay=1e-1)\n",
    "\n",
    "\n",
    "\n",
    "encoder = encoder.to(device)\n",
    "decoder_cell = decoder_cell.to(device)\n",
    "\n",
    "model = EncoderDecoderWrapper(\n",
    "    encoder,\n",
    "    decoder_cell,\n",
    "    output_size=train_dataset[0][1].shape[0],\n",
    "    teacher_forcing=0,\n",
    "    sequence_len=train_dataset[0][0].shape[0],\n",
    "    decoder_input=False,\n",
    "    device='cpu'\n",
    ")\n",
    "\n",
    "model = model.to(device)\n",
    "\n",
    "encoder_optimizer = optim.AdamW(encoder.parameters(), lr=1e-3, weight_decay=1e-2)\n",
    "decoder_optimizer = optim.AdamW(decoder_cell.parameters(), lr=1e-3, weight_decay=1e-2)\n",
    "\n",
    "encoder_scheduler = optim.lr_scheduler.OneCycleLR(encoder_optimizer, max_lr=1e-3, steps_per_epoch=len(train_dataloader), epochs=6)\n",
    "decoder_scheduler = optim.lr_scheduler.OneCycleLR(decoder_optimizer, max_lr=1e-3, steps_per_epoch=len(train_dataloader), epochs=6)\n",
    "\n",
    "model_optimizer = optim.AdamW(model.parameters(), lr=1e-2, weight_decay=1e-2)"
   ]
  },
  {
   "cell_type": "code",
   "execution_count": 74,
   "metadata": {},
   "outputs": [],
   "source": [
    "trainer = TorchTrainer(\n",
    "    'encdec_ohe_std_mse_wd1e-2_do2e-1_test_hs100_tf0_adam',\n",
    "    model, \n",
    "    [encoder_optimizer, decoder_optimizer], \n",
    "    loss_function, \n",
    "    [encoder_scheduler, decoder_scheduler],\n",
    "    device, \n",
    "    scheduler_batch_step=True,\n",
    "    pass_y=True,\n",
    "    #additional_metric_fns={'SMAPE': smape_exp_loss}\n",
    ")"
   ]
  },
  {
   "cell_type": "code",
   "execution_count": 75,
   "metadata": {},
   "outputs": [
    {
     "data": {
      "application/vnd.jupyter.widget-view+json": {
       "model_id": "e6f63d91d507459abe85b327aeef6cab",
       "version_major": 2,
       "version_minor": 0
      },
      "text/plain": [
       "  0%|          | 0/50 [00:00<?, ?it/s]"
      ]
     },
     "metadata": {},
     "output_type": "display_data"
    },
    {
     "name": "stdout",
     "output_type": "stream",
     "text": [
      "Learning rate search finished. See the graph with {finder_name}.plot()\n",
      "LR suggestion: steepest gradient\n",
      "Suggested LR: 4.09E-05\n"
     ]
    },
    {
     "data": {
      "image/png": "[encoded data removed]",
      "text/plain": [
       "<Figure size 432x288 with 1 Axes>"
      ]
     },
     "metadata": {
      "needs_background": "light"
     },
     "output_type": "display_data"
    }
   ],
   "source": [
    "trainer.lr_find(train_dataloader, model_optimizer, start_lr=1e-5, end_lr=1e-2, num_iter=50)"
   ]
  },
  {
   "cell_type": "code",
   "execution_count": null,
   "metadata": {},
   "outputs": [
    {
     "name": "stderr",
     "output_type": "stream",
     "text": [
      "  0%|          | 0/1 [00:00<?, ?it/s]\n",
      "  0%|          | 0/209 [00:00<?, ?it/s]\u001b[A\n",
      "loss 1.0299:   0%|          | 0/209 [00:16<?, ?it/s]\u001b[A\n",
      "loss 1.0299:   0%|          | 1/209 [00:16<56:25, 16.28s/it]\u001b[A\n",
      "loss 0.9076:   0%|          | 1/209 [00:30<56:25, 16.28s/it]\u001b[A\n",
      "loss 0.9076:   1%|          | 2/209 [00:30<52:16, 15.15s/it]\u001b[A\n",
      "loss 0.9815:   1%|          | 2/209 [00:45<52:16, 15.15s/it]\u001b[A\n",
      "loss 0.9815:   1%|▏         | 3/209 [00:45<51:04, 14.87s/it]\u001b[A\n",
      "loss 1.0588:   1%|▏         | 3/209 [01:00<51:04, 14.87s/it]\u001b[A\n",
      "loss 1.0588:   2%|▏         | 4/209 [01:00<51:37, 15.11s/it]\u001b[A\n",
      "loss 1.0004:   2%|▏         | 4/209 [01:15<51:37, 15.11s/it]\u001b[A\n",
      "loss 1.0004:   2%|▏         | 5/209 [01:15<50:32, 14.87s/it]\u001b[A\n",
      "loss 0.9593:   2%|▏         | 5/209 [01:35<50:32, 14.87s/it]\u001b[A\n",
      "loss 0.9593:   3%|▎         | 6/209 [01:35<56:45, 16.78s/it]\u001b[A\n",
      "loss 0.9569:   3%|▎         | 6/209 [02:05<56:45, 16.78s/it]\u001b[A\n",
      "loss 0.9569:   3%|▎         | 7/209 [02:05<1:11:15, 21.16s/it]\u001b[A\n",
      "loss 1.0919:   3%|▎         | 7/209 [02:28<1:11:15, 21.16s/it]\u001b[A\n",
      "loss 1.0919:   4%|▍         | 8/209 [02:28<1:12:23, 21.61s/it]\u001b[A\n",
      "loss 0.9816:   4%|▍         | 8/209 [02:45<1:12:23, 21.61s/it]\u001b[A\n",
      "loss 0.9816:   4%|▍         | 9/209 [02:45<1:07:54, 20.37s/it]\u001b[A\n",
      "loss 0.9988:   4%|▍         | 9/209 [03:01<1:07:54, 20.37s/it]\u001b[A\n",
      "loss 0.9988:   5%|▍         | 10/209 [03:01<1:02:38, 18.89s/it]\u001b[A\n",
      "loss 0.9782:   5%|▍         | 10/209 [03:17<1:02:38, 18.89s/it]\u001b[A\n",
      "loss 0.9782:   5%|▌         | 11/209 [03:17<59:07, 17.92s/it]  \u001b[A\n",
      "loss 1.0345:   5%|▌         | 11/209 [03:34<59:07, 17.92s/it]\u001b[A\n",
      "loss 1.0345:   6%|▌         | 12/209 [03:34<58:01, 17.67s/it]\u001b[A\n",
      "loss 0.9812:   6%|▌         | 12/209 [03:58<58:01, 17.67s/it]\u001b[A\n",
      "loss 0.9812:   6%|▌         | 13/209 [03:58<1:04:33, 19.76s/it]\u001b[A\n",
      "loss 1.0095:   6%|▌         | 13/209 [04:16<1:04:33, 19.76s/it]\u001b[A\n",
      "loss 1.0095:   7%|▋         | 14/209 [04:16<1:01:44, 19.00s/it]\u001b[A\n",
      "loss 0.9615:   7%|▋         | 14/209 [04:32<1:01:44, 19.00s/it]\u001b[A\n",
      "loss 0.9615:   7%|▋         | 15/209 [04:32<58:25, 18.07s/it]  \u001b[A\n",
      "loss 0.9324:   7%|▋         | 15/209 [04:48<58:25, 18.07s/it]\u001b[A\n",
      "loss 0.9324:   8%|▊         | 16/209 [04:48<56:46, 17.65s/it]\u001b[A\n",
      "loss 1.0153:   8%|▊         | 16/209 [05:04<56:46, 17.65s/it]\u001b[A\n",
      "loss 1.0153:   8%|▊         | 17/209 [05:04<54:26, 17.01s/it]\u001b[A\n",
      "loss 0.9261:   8%|▊         | 17/209 [05:22<54:26, 17.01s/it]\u001b[A\n",
      "loss 0.9261:   9%|▊         | 18/209 [05:22<55:16, 17.36s/it]\u001b[A\n",
      "loss 0.9314:   9%|▊         | 18/209 [05:38<55:16, 17.36s/it]\u001b[A\n",
      "loss 0.9314:   9%|▉         | 19/209 [05:38<53:59, 17.05s/it]\u001b[A\n",
      "loss 0.9835:   9%|▉         | 19/209 [05:55<53:59, 17.05s/it]\u001b[A\n",
      "loss 0.9835:  10%|▉         | 20/209 [05:55<52:57, 16.81s/it]\u001b[A\n",
      "loss 1.0173:  10%|▉         | 20/209 [06:10<52:57, 16.81s/it]\u001b[A\n",
      "loss 1.0173:  10%|█         | 21/209 [06:10<51:34, 16.46s/it]\u001b[A\n",
      "loss 1.0353:  10%|█         | 21/209 [06:28<51:34, 16.46s/it]\u001b[A\n",
      "loss 1.0353:  11%|█         | 22/209 [06:28<52:17, 16.78s/it]\u001b[A\n",
      "loss 1.0131:  11%|█         | 22/209 [06:44<52:17, 16.78s/it]\u001b[A\n",
      "loss 1.0131:  11%|█         | 23/209 [06:44<51:16, 16.54s/it]\u001b[A\n",
      "loss 0.9893:  11%|█         | 23/209 [06:59<51:16, 16.54s/it]\u001b[A\n",
      "loss 0.9893:  11%|█▏        | 24/209 [06:59<50:12, 16.29s/it]\u001b[A\n",
      "loss 0.9727:  11%|█▏        | 24/209 [07:15<50:12, 16.29s/it]\u001b[A\n",
      "loss 0.9727:  12%|█▏        | 25/209 [07:15<49:27, 16.13s/it]\u001b[A\n",
      "loss 0.9394:  12%|█▏        | 25/209 [07:30<49:27, 16.13s/it]\u001b[A\n",
      "loss 0.9394:  12%|█▏        | 26/209 [07:30<48:00, 15.74s/it]\u001b[A\n",
      "loss 0.9544:  12%|█▏        | 26/209 [07:45<48:00, 15.74s/it]\u001b[A\n",
      "loss 0.9544:  13%|█▎        | 27/209 [07:45<46:52, 15.45s/it]\u001b[A\n",
      "loss 0.9987:  13%|█▎        | 27/209 [08:01<46:52, 15.45s/it]\u001b[A\n",
      "loss 0.9987:  13%|█▎        | 28/209 [08:01<46:51, 15.54s/it]\u001b[A\n",
      "loss 1.1557:  13%|█▎        | 28/209 [08:16<46:51, 15.54s/it]\u001b[A\n",
      "loss 1.1557:  14%|█▍        | 29/209 [08:16<46:36, 15.54s/it]\u001b[A\n",
      "loss 1.0085:  14%|█▍        | 29/209 [08:32<46:36, 15.54s/it]\u001b[A\n",
      "loss 1.0085:  14%|█▍        | 30/209 [08:32<47:09, 15.81s/it]\u001b[A\n",
      "loss 0.9623:  14%|█▍        | 30/209 [08:47<47:09, 15.81s/it]\u001b[A\n",
      "loss 0.9623:  15%|█▍        | 31/209 [08:47<46:04, 15.53s/it]\u001b[A\n",
      "loss 1.0585:  15%|█▍        | 31/209 [09:04<46:04, 15.53s/it]\u001b[A\n",
      "loss 1.0585:  15%|█▌        | 32/209 [09:04<46:27, 15.75s/it]\u001b[A\n",
      "loss 1.0774:  15%|█▌        | 32/209 [09:21<46:27, 15.75s/it]\u001b[A\n",
      "loss 1.0774:  16%|█▌        | 33/209 [09:21<47:33, 16.21s/it]\u001b[A\n",
      "loss 0.9996:  16%|█▌        | 33/209 [09:37<47:33, 16.21s/it]\u001b[A\n",
      "loss 0.9996:  16%|█▋        | 34/209 [09:37<46:49, 16.05s/it]\u001b[A\n",
      "loss 1.0023:  16%|█▋        | 34/209 [09:52<46:49, 16.05s/it]\u001b[A\n",
      "loss 1.0023:  17%|█▋        | 35/209 [09:52<46:19, 15.97s/it]\u001b[A\n",
      "loss 0.9793:  17%|█▋        | 35/209 [10:12<46:19, 15.97s/it]\u001b[A\n",
      "loss 0.9793:  17%|█▋        | 36/209 [10:12<49:15, 17.08s/it]\u001b[A\n",
      "loss 0.9301:  17%|█▋        | 36/209 [10:29<49:15, 17.08s/it]\u001b[A\n",
      "loss 0.9301:  18%|█▊        | 37/209 [10:29<48:35, 16.95s/it]\u001b[A"
     ]
    }
   ],
   "source": [
    "vd = valid_dataloader if mode == 'valid' else None\n",
    "trainer.train(1, train_dataloader, vd, resume_only_model=True, resume=True)"
   ]
  },
  {
   "cell_type": "code",
   "execution_count": 90,
   "metadata": {},
   "outputs": [
    {
     "name": "stderr",
     "output_type": "stream",
     "text": [
      "0it [00:00, ?it/s]\n"
     ]
    },
    {
     "name": "stdout",
     "output_type": "stream",
     "text": [
      "loaded checkpoint for epoch - 4\n"
     ]
    },
    {
     "data": {
      "text/plain": [
       "4"
      ]
     },
     "execution_count": 90,
     "metadata": {},
     "output_type": "execute_result"
    }
   ],
   "source": [
    "trainer._load_checkpoint(only_model=True)"
   ]
  },
  {
   "cell_type": "code",
   "execution_count": 100,
   "metadata": {},
   "outputs": [],
   "source": [
    "if mode == 'valid':\n",
    "    valid_predictions = trainer.predict(valid_dataloader)"
   ]
  },
  {
   "cell_type": "code",
   "execution_count": 101,
   "metadata": {},
   "outputs": [
    {
     "name": "stderr",
     "output_type": "stream",
     "text": [
      "100%|██████████| 1/1 [00:00<00:00,  4.72it/s]\n"
     ]
    }
   ],
   "source": [
    "test_predictions = trainer.predict(test_dataloader)\n"
   ]
  },
  {
   "cell_type": "code",
   "execution_count": 93,
   "metadata": {},
   "outputs": [],
   "source": [
    "valid_sequence_data.index = range(len(valid_sequence_data))\n",
    "test_sequence_data.index = range(len(test_sequence_data))\n"
   ]
  },
  {
   "cell_type": "code",
   "execution_count": 94,
   "metadata": {},
   "outputs": [
    {
     "name": "stderr",
     "output_type": "stream",
     "text": [
      "/Users/kfrid/Projects/takehome_test/venv/lib/python3.7/site-packages/ipykernel_launcher.py:3: SettingWithCopyWarning: \n",
      "A value is trying to be set on a copy of a slice from a DataFrame.\n",
      "Try using .loc[row_indexer,col_indexer] = value instead\n",
      "\n",
      "See the caveats in the documentation: https://pandas.pydata.org/pandas-docs/stable/user_guide/indexing.html#returning-a-view-versus-a-copy\n",
      "  This is separate from the ipykernel package so we can avoid doing imports until\n"
     ]
    }
   ],
   "source": [
    "if mode == 'valid':\n",
    "    valid_sequence_data['predictions'] = pd.Series(valid_predictions.tolist())\n",
    "test_sequence_data['predictions'] = pd.Series(test_predictions.tolist())"
   ]
  },
  {
   "cell_type": "code",
   "execution_count": 95,
   "metadata": {},
   "outputs": [],
   "source": [
    "if mode == 'valid':\n",
    "    valid_sequence_data['X'] = valid_sequence_data['x_sequence'].apply(lambda x: x[:, 0])\n",
    "    valid_sequence_data['Y'] = valid_sequence_data['y_sequence'].apply(lambda x: x[:, 0])\n"
   ]
  },
  {
   "cell_type": "code",
   "execution_count": 96,
   "metadata": {},
   "outputs": [],
   "source": [
    "from utils.preprocessing_utils import rescale_data"
   ]
  },
  {
   "cell_type": "code",
   "execution_count": null,
   "metadata": {},
   "outputs": [],
   "source": [
    "def rescale_data(scale_map, data_df, columns=['predictions', 'y_sequence', 'x_sequence']):\n",
    "    rescaled_data = pd.DataFrame()\n",
    "    for store_item_id, item_data in tqdm(data_df.groupby('store_item_id', as_index=False)):\n",
    "        mu = scale_map[store_item_id]['mu']\n",
    "        sigma = scale_map[store_item_id]['sigma']\n",
    "        for col in columns:\n",
    "            item_data[col] = item_data[col].apply(lambda x: (np.array(x) * sigma) + mu)\n",
    "        rescaled_data = pd.concat([rescaled_data, item_data], ignore_index=True)\n",
    "    return rescaled_data"
   ]
  },
  {
   "cell_type": "code",
   "execution_count": 97,
   "metadata": {},
   "outputs": [
    {
     "name": "stderr",
     "output_type": "stream",
     "text": [
      "2021-02-25 09:40:22,047 | INFO : Start rescaling\n",
      "100%|██████████| 3/3 [00:00<00:00, 345.38it/s]\n"
     ]
    }
   ],
   "source": [
    "if mode == 'valid':\n",
    "    valid_rescaled = rescale_data(scale_map, valid_sequence_data, columns=['Y', 'predictions'])\n",
    "test_rescaled = rescale_data(scale_map, test_sequence_data, columns=['predictions'])\n"
   ]
  },
  {
   "cell_type": "code",
   "execution_count": 98,
   "metadata": {},
   "outputs": [],
   "source": [
    "if mode == 'valid':\n",
    "    valid_sequence_data = valid_rescaled\n",
    "test_sequence_data = test_rescaled"
   ]
  },
  {
   "cell_type": "code",
   "execution_count": 99,
   "metadata": {},
   "outputs": [
    {
     "data": {
      "text/html": [
       "<div>\n",
       "<style scoped>\n",
       "    .dataframe tbody tr th:only-of-type {\n",
       "        vertical-align: middle;\n",
       "    }\n",
       "\n",
       "    .dataframe tbody tr th {\n",
       "        vertical-align: top;\n",
       "    }\n",
       "\n",
       "    .dataframe thead th {\n",
       "        text-align: right;\n",
       "    }\n",
       "</style>\n",
       "<table border=\"1\" class=\"dataframe\">\n",
       "  <thead>\n",
       "    <tr style=\"text-align: right;\">\n",
       "      <th></th>\n",
       "      <th>Store</th>\n",
       "      <th>x_sequence</th>\n",
       "      <th>y_sequence</th>\n",
       "      <th>Assortment</th>\n",
       "      <th>Assortment_mean</th>\n",
       "      <th>CompetitionDistance</th>\n",
       "      <th>CompetitionDistance_mean</th>\n",
       "      <th>CompetitionOpenSinceMonth_cos</th>\n",
       "      <th>CompetitionOpenSinceMonth_sin</th>\n",
       "      <th>Customers_mean</th>\n",
       "      <th>Date</th>\n",
       "      <th>Promo2</th>\n",
       "      <th>Promo2SinceWeek_cos</th>\n",
       "      <th>Promo2SinceWeek_sin</th>\n",
       "      <th>PromoInterval</th>\n",
       "      <th>Sales_mean</th>\n",
       "      <th>StoreType</th>\n",
       "    </tr>\n",
       "  </thead>\n",
       "  <tbody>\n",
       "    <tr>\n",
       "      <th>0</th>\n",
       "      <td>9</td>\n",
       "      <td>[[2.232, 2.293, 1.0, 1.0, 0.0, 1.0, 0.7817, 0....</td>\n",
       "      <td>[[0.3315], [0.148], [0.135], [0.0929], [-0.351...</td>\n",
       "      <td>0.70752</td>\n",
       "      <td>0.666504</td>\n",
       "      <td>0.310303</td>\n",
       "      <td>7.101562</td>\n",
       "      <td>-0.5</td>\n",
       "      <td>-0.866211</td>\n",
       "      <td>6.300781</td>\n",
       "      <td>2014-11-16</td>\n",
       "      <td>0</td>\n",
       "      <td>1.0</td>\n",
       "      <td>0.0</td>\n",
       "      <td>0</td>\n",
       "      <td>8.695312</td>\n",
       "      <td>0</td>\n",
       "    </tr>\n",
       "    <tr>\n",
       "      <th>1</th>\n",
       "      <td>9</td>\n",
       "      <td>[[1.667, 1.834, 1.0, 1.0, 0.0, 1.0, 0.975, -0....</td>\n",
       "      <td>[[0.148], [0.135], [0.0929], [-0.3518], [0.279...</td>\n",
       "      <td>0.70752</td>\n",
       "      <td>0.666504</td>\n",
       "      <td>0.310303</td>\n",
       "      <td>7.101562</td>\n",
       "      <td>-0.5</td>\n",
       "      <td>-0.866211</td>\n",
       "      <td>6.300781</td>\n",
       "      <td>2014-11-17</td>\n",
       "      <td>0</td>\n",
       "      <td>1.0</td>\n",
       "      <td>0.0</td>\n",
       "      <td>0</td>\n",
       "      <td>8.695312</td>\n",
       "      <td>0</td>\n",
       "    </tr>\n",
       "    <tr>\n",
       "      <th>2</th>\n",
       "      <td>9</td>\n",
       "      <td>[[1.318, 1.422, 1.0, 1.0, 0.0, 0.0, 0.4338, -0...</td>\n",
       "      <td>[[0.135], [0.0929], [-0.3518], [0.2793], [0.46...</td>\n",
       "      <td>0.70752</td>\n",
       "      <td>0.666504</td>\n",
       "      <td>0.310303</td>\n",
       "      <td>7.101562</td>\n",
       "      <td>-0.5</td>\n",
       "      <td>-0.866211</td>\n",
       "      <td>6.300781</td>\n",
       "      <td>2014-11-18</td>\n",
       "      <td>0</td>\n",
       "      <td>1.0</td>\n",
       "      <td>0.0</td>\n",
       "      <td>0</td>\n",
       "      <td>8.695312</td>\n",
       "      <td>0</td>\n",
       "    </tr>\n",
       "    <tr>\n",
       "      <th>3</th>\n",
       "      <td>9</td>\n",
       "      <td>[[0.4998, 0.4314, 1.0, 1.0, 0.0, 0.0, -0.4338,...</td>\n",
       "      <td>[[0.0929], [-0.3518], [0.2793], [0.468], [0.46...</td>\n",
       "      <td>0.70752</td>\n",
       "      <td>0.666504</td>\n",
       "      <td>0.310303</td>\n",
       "      <td>7.101562</td>\n",
       "      <td>-0.5</td>\n",
       "      <td>-0.866211</td>\n",
       "      <td>6.300781</td>\n",
       "      <td>2014-11-19</td>\n",
       "      <td>0</td>\n",
       "      <td>1.0</td>\n",
       "      <td>0.0</td>\n",
       "      <td>0</td>\n",
       "      <td>8.695312</td>\n",
       "      <td>0</td>\n",
       "    </tr>\n",
       "    <tr>\n",
       "      <th>4</th>\n",
       "      <td>9</td>\n",
       "      <td>[[0.7124, 0.748, 1.0, 1.0, 0.0, 0.0, -0.975, -...</td>\n",
       "      <td>[[-0.3518], [0.2793], [0.468], [0.468], [2.37]...</td>\n",
       "      <td>0.70752</td>\n",
       "      <td>0.666504</td>\n",
       "      <td>0.310303</td>\n",
       "      <td>7.101562</td>\n",
       "      <td>-0.5</td>\n",
       "      <td>-0.866211</td>\n",
       "      <td>6.300781</td>\n",
       "      <td>2014-11-20</td>\n",
       "      <td>0</td>\n",
       "      <td>1.0</td>\n",
       "      <td>0.0</td>\n",
       "      <td>0</td>\n",
       "      <td>8.695312</td>\n",
       "      <td>0</td>\n",
       "    </tr>\n",
       "  </tbody>\n",
       "</table>\n",
       "</div>"
      ],
      "text/plain": [
       "   Store                                         x_sequence  \\\n",
       "0      9  [[2.232, 2.293, 1.0, 1.0, 0.0, 1.0, 0.7817, 0....   \n",
       "1      9  [[1.667, 1.834, 1.0, 1.0, 0.0, 1.0, 0.975, -0....   \n",
       "2      9  [[1.318, 1.422, 1.0, 1.0, 0.0, 0.0, 0.4338, -0...   \n",
       "3      9  [[0.4998, 0.4314, 1.0, 1.0, 0.0, 0.0, -0.4338,...   \n",
       "4      9  [[0.7124, 0.748, 1.0, 1.0, 0.0, 0.0, -0.975, -...   \n",
       "\n",
       "                                          y_sequence  Assortment  \\\n",
       "0  [[0.3315], [0.148], [0.135], [0.0929], [-0.351...     0.70752   \n",
       "1  [[0.148], [0.135], [0.0929], [-0.3518], [0.279...     0.70752   \n",
       "2  [[0.135], [0.0929], [-0.3518], [0.2793], [0.46...     0.70752   \n",
       "3  [[0.0929], [-0.3518], [0.2793], [0.468], [0.46...     0.70752   \n",
       "4  [[-0.3518], [0.2793], [0.468], [0.468], [2.37]...     0.70752   \n",
       "\n",
       "   Assortment_mean  CompetitionDistance  CompetitionDistance_mean  \\\n",
       "0         0.666504             0.310303                  7.101562   \n",
       "1         0.666504             0.310303                  7.101562   \n",
       "2         0.666504             0.310303                  7.101562   \n",
       "3         0.666504             0.310303                  7.101562   \n",
       "4         0.666504             0.310303                  7.101562   \n",
       "\n",
       "   CompetitionOpenSinceMonth_cos  CompetitionOpenSinceMonth_sin  \\\n",
       "0                           -0.5                      -0.866211   \n",
       "1                           -0.5                      -0.866211   \n",
       "2                           -0.5                      -0.866211   \n",
       "3                           -0.5                      -0.866211   \n",
       "4                           -0.5                      -0.866211   \n",
       "\n",
       "   Customers_mean       Date  Promo2  Promo2SinceWeek_cos  \\\n",
       "0        6.300781 2014-11-16       0                  1.0   \n",
       "1        6.300781 2014-11-17       0                  1.0   \n",
       "2        6.300781 2014-11-18       0                  1.0   \n",
       "3        6.300781 2014-11-19       0                  1.0   \n",
       "4        6.300781 2014-11-20       0                  1.0   \n",
       "\n",
       "   Promo2SinceWeek_sin  PromoInterval  Sales_mean  StoreType  \n",
       "0                  0.0              0    8.695312          0  \n",
       "1                  0.0              0    8.695312          0  \n",
       "2                  0.0              0    8.695312          0  \n",
       "3                  0.0              0    8.695312          0  \n",
       "4                  0.0              0    8.695312          0  "
      ]
     },
     "execution_count": 99,
     "metadata": {},
     "output_type": "execute_result"
    }
   ],
   "source": [
    "valid_sequence_data.head()"
   ]
  },
  {
   "cell_type": "code",
   "execution_count": null,
   "metadata": {},
   "outputs": [],
   "source": []
  }
 ],
 "metadata": {
  "kernelspec": {
   "display_name": "Python 3.7.8(takehometest)",
   "language": "python",
   "name": "venv"
  },
  "language_info": {
   "codemirror_mode": {
    "name": "ipython",
    "version": 3
   },
   "file_extension": ".py",
   "mimetype": "text/x-python",
   "name": "python",
   "nbconvert_exporter": "python",
   "pygments_lexer": "ipython3",
   "version": "3.7.8"
  }
 },
 "nbformat": 4,
 "nbformat_minor": 5
}
